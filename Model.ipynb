{
 "cells": [
  {
   "cell_type": "markdown",
   "id": "895bc88d-28b2-43ac-a678-cdb10a824489",
   "metadata": {},
   "source": [
    "# **MARKENNOVY**"
   ]
  },
  {
   "cell_type": "markdown",
   "id": "d7fcffb2-21e7-45a5-8f7b-bd173761b2fd",
   "metadata": {},
   "source": [
    "## **READING TABLES**\n"
   ]
  },
  {
   "cell_type": "markdown",
   "id": "f5645b12-7d35-4a17-a2f1-05fedaaa85b5",
   "metadata": {},
   "source": [
    "These are the neccessary table to make the merges"
   ]
  },
  {
   "cell_type": "code",
   "execution_count": 15,
   "id": "0a0b2b9f-5343-49e6-b8b0-1682bd6631fb",
   "metadata": {},
   "outputs": [],
   "source": [
    "import pandas as pd"
   ]
  },
  {
   "cell_type": "code",
   "execution_count": 16,
   "id": "c5b80c81-0921-4ed5-bf18-a460a0a58ab2",
   "metadata": {},
   "outputs": [
    {
     "name": "stderr",
     "output_type": "stream",
     "text": [
      "C:\\Users\\David\\AppData\\Local\\Temp\\ipykernel_13860\\2964262143.py:1: DtypeWarning: Columns (2,12,13,20,25) have mixed types. Specify dtype option on import or set low_memory=False.\n",
      "  joborder = pd.read_csv(\"jobOrder.csv\", delimiter=\"|\", encoding=\"latin-1\")\n"
     ]
    }
   ],
   "source": [
    "joborder = pd.read_csv(\"jobOrder.csv\", delimiter=\"|\", encoding=\"latin-1\")\n",
    "articulos = pd.read_csv(\"Articulos.csv\", delimiter=\"|\", encoding=\"latin-1\")\n",
    "orderRow = pd.read_csv(\"orderRow.csv\", delimiter=\"|\", encoding=\"latin-1\")\n",
    "familias = pd.read_csv(\"Familias.csv\", delimiter=\"|\", encoding=\"latin-1\")\n",
    "lineasprod = pd.read_csv(\"LineasProd.csv\", delimiter=\"|\", encoding=\"latin-1\")\n",
    "subfamilias = pd.read_csv(\"SubFamilias.csv\", delimiter=\"|\", encoding=\"latin-1\")"
   ]
  },
  {
   "cell_type": "code",
   "execution_count": 17,
   "id": "20e59dec-e063-43b6-94be-83b95f7cd736",
   "metadata": {},
   "outputs": [],
   "source": [
    "data = []\n",
    "with open(\"PedLin.csv\", \"r\", encoding=\"latin1\") as file:\n",
    "    for line in file:\n",
    "        # Process each line and split it based on the delimiter\n",
    "        row = line.strip().split(\"|\")\n",
    "        data.append(row)\n",
    "\n",
    "# Create a DataFrame from the processed data\n",
    "ped_lin = pd.DataFrame(data)\n",
    "ped_lin.columns = ped_lin.iloc[0]\n",
    "ped_lin = ped_lin[1:]\n",
    "ped_lin = ped_lin.iloc[:,0:10]\n",
    "ped_lin = ped_lin.rename(columns={\"Ped_nNum\": \"Numero_Pedido\", \"PedLin_nNum\": \"Linea_Pedido\"})"
   ]
  },
  {
   "cell_type": "markdown",
   "id": "0dd8298a-fa9e-44f8-967e-330d9cd7ebb1",
   "metadata": {
    "tags": []
   },
   "source": [
    "## **MERGES**"
   ]
  },
  {
   "cell_type": "markdown",
   "id": "76810932-065f-49e4-ba5d-cf600634a97e",
   "metadata": {},
   "source": [
    "***MERGE OF OrderRow with pedlin***"
   ]
  },
  {
   "cell_type": "markdown",
   "id": "0f9d93b5-e163-4dc7-afcb-4058b574be99",
   "metadata": {},
   "source": [
    "Firstly, it is necessary to split the column **TEC_INST** into 3 columns, and to change the name of the columns in order make the merges"
   ]
  },
  {
   "cell_type": "code",
   "execution_count": 18,
   "id": "acd307b4-3370-42ad-b2fd-2f40a360c4e4",
   "metadata": {},
   "outputs": [],
   "source": [
    "orderRow[['1', '2', '3']] = orderRow[\"TEC_INST\"].str.split(\",\", expand=True)\n",
    "orderRow = orderRow.drop(columns=\"TEC_INST\")\n",
    "orderRow = orderRow.rename(columns={'1': 'Numero_Pedido', '2': 'Linea_Pedido', '3': 'ItemCode'})"
   ]
  },
  {
   "cell_type": "code",
   "execution_count": 19,
   "id": "63cb23f3-0965-454c-83f5-2b78b5c384e9",
   "metadata": {},
   "outputs": [
    {
     "data": {
      "text/plain": [
       "CONF_CODE            0\n",
       "ORDER_ROW            0\n",
       "Numero_Pedido    40581\n",
       "Linea_Pedido     40584\n",
       "ItemCode         40589\n",
       "dtype: int64"
      ]
     },
     "execution_count": 19,
     "metadata": {},
     "output_type": "execute_result"
    }
   ],
   "source": [
    "orderRow.isnull().sum()"
   ]
  },
  {
   "cell_type": "markdown",
   "id": "f5786800-5d14-4009-a369-0046b37f8933",
   "metadata": {},
   "source": [
    "Dropping **null values** to make the merges"
   ]
  },
  {
   "cell_type": "code",
   "execution_count": 20,
   "id": "425eec6b-40de-413a-a45c-92a0437a419e",
   "metadata": {},
   "outputs": [],
   "source": [
    "orderRow.dropna(inplace=True)"
   ]
  },
  {
   "cell_type": "markdown",
   "id": "7a864860-4654-405d-99ce-48692ecadb33",
   "metadata": {},
   "source": [
    "Changing **objects** into **integers**"
   ]
  },
  {
   "cell_type": "code",
   "execution_count": 21,
   "id": "962edb10-f29c-458d-b6c9-de9b56cb15b2",
   "metadata": {},
   "outputs": [],
   "source": [
    "orderRow['Numero_Pedido'] = orderRow['Numero_Pedido'].astype('int64')\n",
    "orderRow['Linea_Pedido'] = orderRow['Linea_Pedido'].astype('int64')"
   ]
  },
  {
   "cell_type": "markdown",
   "id": "b2da3ce2-dee7-406b-8dbd-47c53d30547e",
   "metadata": {},
   "source": [
    "Dropping **null values** and changing objects to **integers** in **ped_lin** to make the merge"
   ]
  },
  {
   "cell_type": "code",
   "execution_count": 22,
   "id": "58ae59db-9f5f-4f3e-ad61-6584696294c9",
   "metadata": {},
   "outputs": [],
   "source": [
    "ped_lin['Numero_Pedido'] = pd.to_numeric(ped_lin['Numero_Pedido'], errors='coerce')\n",
    "\n",
    "# Drop rows with missing (NaN) values in the 'Numero_Pedido' column\n",
    "ped_lin.dropna(subset=['Numero_Pedido'], inplace=True)\n",
    "\n",
    "# Convert 'Numero_Pedido' column to int64\n",
    "ped_lin['Numero_Pedido'] = ped_lin['Numero_Pedido'].astype('int64')"
   ]
  },
  {
   "cell_type": "code",
   "execution_count": 23,
   "id": "be381285-2b61-4882-b621-91e3f779e892",
   "metadata": {},
   "outputs": [],
   "source": [
    "ped_lin['Linea_Pedido'] = pd.to_numeric(ped_lin['Linea_Pedido'], errors='coerce')\n",
    "\n",
    "# Drop rows with missing (NaN) values in the 'Numero_Pedido' column\n",
    "ped_lin.dropna(subset=['Linea_Pedido'], inplace=True)\n",
    "\n",
    "# Convert 'Numero_Pedido' column to int64\n",
    "ped_lin['Linea_Pedido'] = ped_lin['Linea_Pedido'].astype('int64')"
   ]
  },
  {
   "cell_type": "code",
   "execution_count": 24,
   "id": "e0bf654e-1285-42f5-ae87-569434389a1f",
   "metadata": {},
   "outputs": [],
   "source": [
    "orderRow_ped_lin = orderRow.merge(ped_lin, on=['Numero_Pedido', 'Linea_Pedido'], how='left')"
   ]
  },
  {
   "cell_type": "code",
   "execution_count": 25,
   "id": "95dcf7c4-882f-4529-bb02-274b292e96cf",
   "metadata": {},
   "outputs": [
    {
     "data": {
      "text/plain": [
       "CONF_CODE        0.000000\n",
       "ORDER_ROW        0.000000\n",
       "Numero_Pedido    0.000000\n",
       "Linea_Pedido     0.000000\n",
       "ItemCode         0.000000\n",
       "Prod_sId         0.000094\n",
       "Diametro         0.000094\n",
       "Radio            0.000094\n",
       "Adicion          0.000094\n",
       "Esfera           0.000094\n",
       "Cilindro         0.000094\n",
       "Eje              0.000094\n",
       "Comments         0.000094\n",
       "dtype: float64"
      ]
     },
     "execution_count": 25,
     "metadata": {},
     "output_type": "execute_result"
    }
   ],
   "source": [
    "orderRow_ped_lin.isnull().mean()"
   ]
  },
  {
   "cell_type": "markdown",
   "id": "2cb3b238-050d-4ab7-a998-4a9d85f155f2",
   "metadata": {},
   "source": [
    "***Merge of Articulos with Fmilias, lineas_prod and subfamilias and pedlin***"
   ]
  },
  {
   "cell_type": "code",
   "execution_count": 26,
   "id": "da5eeacf-ff08-4282-aef4-1b3541f27594",
   "metadata": {},
   "outputs": [],
   "source": [
    "# Perform left join with familias\n",
    "articulos_merged = articulos.merge(familias, left_on='CodFam', right_on='Code', how='left')"
   ]
  },
  {
   "cell_type": "code",
   "execution_count": 27,
   "id": "ad9c9461-e10b-45de-a1c7-0d6c3c090066",
   "metadata": {},
   "outputs": [],
   "source": [
    "# Perform left join with lineasprod\n",
    "articulos_merged = articulos_merged.merge(lineasprod, left_on='LinProd', right_on='Code', how='left')"
   ]
  },
  {
   "cell_type": "code",
   "execution_count": 28,
   "id": "b88fed38-ba54-4734-b16e-d0835e9849fb",
   "metadata": {},
   "outputs": [],
   "source": [
    "# Perform left join with subfamilias\n",
    "articulos_merged = articulos_merged.merge(subfamilias, left_on='CodSubFam', right_on='Code', how='left')"
   ]
  },
  {
   "cell_type": "markdown",
   "id": "e03d66b4-8ba3-47ae-99d6-0e899d30d473",
   "metadata": {},
   "source": [
    "Dropping unwanted columns and renaming them by the name of the columns of pre-joined tables"
   ]
  },
  {
   "cell_type": "code",
   "execution_count": 29,
   "id": "d334f50e-d149-4130-8dbf-61a3c5968f78",
   "metadata": {},
   "outputs": [],
   "source": [
    "# Drop unwanted columns\n",
    "articulos_merged = articulos_merged.drop(['LinProd', 'CodFam', 'CodSubFam', 'Code_x', 'Code_y', 'Code'], axis=1)\n",
    "\n",
    "# Rename columns\n",
    "articulos_merged = articulos_merged.rename(columns={'Name_x': 'NameFam', 'Name_y': 'Name_LinProd', 'Name': 'Name_SubFam'})"
   ]
  },
  {
   "cell_type": "code",
   "execution_count": 30,
   "id": "6ce04649-0b50-47fc-bdea-b7984ff3395f",
   "metadata": {},
   "outputs": [
    {
     "data": {
      "text/html": [
       "<div>\n",
       "<style scoped>\n",
       "    .dataframe tbody tr th:only-of-type {\n",
       "        vertical-align: middle;\n",
       "    }\n",
       "\n",
       "    .dataframe tbody tr th {\n",
       "        vertical-align: top;\n",
       "    }\n",
       "\n",
       "    .dataframe thead th {\n",
       "        text-align: right;\n",
       "    }\n",
       "</style>\n",
       "<table border=\"1\" class=\"dataframe\">\n",
       "  <thead>\n",
       "    <tr style=\"text-align: right;\">\n",
       "      <th></th>\n",
       "      <th>ItemCode</th>\n",
       "      <th>ItemName</th>\n",
       "      <th>Desing</th>\n",
       "      <th>FrozenFor</th>\n",
       "      <th>NameFam</th>\n",
       "      <th>Name_LinProd</th>\n",
       "      <th>Name_SubFam</th>\n",
       "    </tr>\n",
       "  </thead>\n",
       "  <tbody>\n",
       "    <tr>\n",
       "      <th>0</th>\n",
       "      <td>001</td>\n",
       "      <td>Varios de compras</td>\n",
       "      <td>NoDesing</td>\n",
       "      <td>N</td>\n",
       "      <td>NaN</td>\n",
       "      <td>NaN</td>\n",
       "      <td>NaN</td>\n",
       "    </tr>\n",
       "    <tr>\n",
       "      <th>1</th>\n",
       "      <td>002</td>\n",
       "      <td>SEVEN 12pk T/MF x20</td>\n",
       "      <td>NoDesing</td>\n",
       "      <td>N</td>\n",
       "      <td>TALONARIOS</td>\n",
       "      <td>CHBK MOULD</td>\n",
       "      <td>TALONARIOS</td>\n",
       "    </tr>\n",
       "    <tr>\n",
       "      <th>2</th>\n",
       "      <td>003</td>\n",
       "      <td>Voucher Mylo&amp;Edof 3pk x300</td>\n",
       "      <td>NoDesing</td>\n",
       "      <td>N</td>\n",
       "      <td>TALONARIOS</td>\n",
       "      <td>CHBK LATH</td>\n",
       "      <td>TALONARIOS</td>\n",
       "    </tr>\n",
       "    <tr>\n",
       "      <th>3</th>\n",
       "      <td>004</td>\n",
       "      <td>Checkbook 50 EyeGo Bio Fresh 6pk A T &amp; MF</td>\n",
       "      <td>NoDesing</td>\n",
       "      <td>N</td>\n",
       "      <td>TALONARIOS</td>\n",
       "      <td>CHBK MOULD</td>\n",
       "      <td>TALONARIOS</td>\n",
       "    </tr>\n",
       "    <tr>\n",
       "      <th>4</th>\n",
       "      <td>005</td>\n",
       "      <td>Checkbook 10 EyeGo Bio Fresh 6pk A T &amp; MF</td>\n",
       "      <td>NoDesing</td>\n",
       "      <td>N</td>\n",
       "      <td>TALONARIOS</td>\n",
       "      <td>CHBK MOULD</td>\n",
       "      <td>TALONARIOS</td>\n",
       "    </tr>\n",
       "    <tr>\n",
       "      <th>...</th>\n",
       "      <td>...</td>\n",
       "      <td>...</td>\n",
       "      <td>...</td>\n",
       "      <td>...</td>\n",
       "      <td>...</td>\n",
       "      <td>...</td>\n",
       "      <td>...</td>\n",
       "    </tr>\n",
       "    <tr>\n",
       "      <th>5563</th>\n",
       "      <td>zw</td>\n",
       "      <td>Chequier saphir Rx MF 50</td>\n",
       "      <td>NoDesing</td>\n",
       "      <td>N</td>\n",
       "      <td>TALONARIOS</td>\n",
       "      <td>CHBK LATH</td>\n",
       "      <td>TALONARIOS</td>\n",
       "    </tr>\n",
       "    <tr>\n",
       "      <th>5564</th>\n",
       "      <td>ZX</td>\n",
       "      <td>VOUCHER WIDE &amp; PERFECTA ASPH 3PK</td>\n",
       "      <td>NoDesing</td>\n",
       "      <td>N</td>\n",
       "      <td>TALONARIOS</td>\n",
       "      <td>CHBK MOULD</td>\n",
       "      <td>TALONARIOS</td>\n",
       "    </tr>\n",
       "    <tr>\n",
       "      <th>5565</th>\n",
       "      <td>ZY</td>\n",
       "      <td>VOUCHER WIDE &amp; PERFECTA ASPH 1PK</td>\n",
       "      <td>NoDesing</td>\n",
       "      <td>N</td>\n",
       "      <td>TALONARIOS</td>\n",
       "      <td>CHBK MOULD</td>\n",
       "      <td>TALONARIOS</td>\n",
       "    </tr>\n",
       "    <tr>\n",
       "      <th>5566</th>\n",
       "      <td>zz</td>\n",
       "      <td>Chequier Rx sphérique 170</td>\n",
       "      <td>NoDesing</td>\n",
       "      <td>N</td>\n",
       "      <td>TALONARIOS</td>\n",
       "      <td>CHBK LATH</td>\n",
       "      <td>TALONARIOS</td>\n",
       "    </tr>\n",
       "    <tr>\n",
       "      <th>5567</th>\n",
       "      <td>ZZZ</td>\n",
       "      <td>Saphir MF CN 2pk 3-Monthly</td>\n",
       "      <td>Y6_ACTIVO</td>\n",
       "      <td>N</td>\n",
       "      <td>TRIMESTRAL</td>\n",
       "      <td>SAPHIR 3M</td>\n",
       "      <td>MULTIFOCAL</td>\n",
       "    </tr>\n",
       "  </tbody>\n",
       "</table>\n",
       "<p>5568 rows × 7 columns</p>\n",
       "</div>"
      ],
      "text/plain": [
       "     ItemCode                                   ItemName     Desing FrozenFor  \\\n",
       "0         001                          Varios de compras   NoDesing         N   \n",
       "1         002                        SEVEN 12pk T/MF x20   NoDesing         N   \n",
       "2         003                 Voucher Mylo&Edof 3pk x300   NoDesing         N   \n",
       "3         004  Checkbook 50 EyeGo Bio Fresh 6pk A T & MF   NoDesing         N   \n",
       "4         005  Checkbook 10 EyeGo Bio Fresh 6pk A T & MF   NoDesing         N   \n",
       "...       ...                                        ...        ...       ...   \n",
       "5563       zw                   Chequier saphir Rx MF 50   NoDesing         N   \n",
       "5564       ZX           VOUCHER WIDE & PERFECTA ASPH 3PK   NoDesing         N   \n",
       "5565       ZY           VOUCHER WIDE & PERFECTA ASPH 1PK   NoDesing         N   \n",
       "5566       zz                  Chequier Rx sphérique 170   NoDesing         N   \n",
       "5567      ZZZ                 Saphir MF CN 2pk 3-Monthly  Y6_ACTIVO         N   \n",
       "\n",
       "         NameFam Name_LinProd Name_SubFam  \n",
       "0            NaN          NaN         NaN  \n",
       "1     TALONARIOS   CHBK MOULD  TALONARIOS  \n",
       "2     TALONARIOS    CHBK LATH  TALONARIOS  \n",
       "3     TALONARIOS   CHBK MOULD  TALONARIOS  \n",
       "4     TALONARIOS   CHBK MOULD  TALONARIOS  \n",
       "...          ...          ...         ...  \n",
       "5563  TALONARIOS    CHBK LATH  TALONARIOS  \n",
       "5564  TALONARIOS   CHBK MOULD  TALONARIOS  \n",
       "5565  TALONARIOS   CHBK MOULD  TALONARIOS  \n",
       "5566  TALONARIOS    CHBK LATH  TALONARIOS  \n",
       "5567  TRIMESTRAL    SAPHIR 3M  MULTIFOCAL  \n",
       "\n",
       "[5568 rows x 7 columns]"
      ]
     },
     "execution_count": 30,
     "metadata": {},
     "output_type": "execute_result"
    }
   ],
   "source": [
    "articulos_merged"
   ]
  },
  {
   "cell_type": "markdown",
   "id": "526c2c49-07c1-4472-a103-0ad173f5f0d9",
   "metadata": {},
   "source": [
    "***Merge of Articulos with OrderRow and pedlin***"
   ]
  },
  {
   "cell_type": "markdown",
   "id": "5bf60d88-4c2e-4a4a-ae1d-b934f1123143",
   "metadata": {},
   "source": [
    "Dropping the **null value** of **\"ItemCode\"** in **Articulos table** to make the merges"
   ]
  },
  {
   "cell_type": "code",
   "execution_count": 31,
   "id": "b3ff1ca8-2ef2-4bb3-9412-b648fbafb75b",
   "metadata": {},
   "outputs": [
    {
     "data": {
      "text/plain": [
       "ItemCode          1\n",
       "ItemName         13\n",
       "Desing            0\n",
       "FrozenFor         0\n",
       "NameFam         390\n",
       "Name_LinProd    282\n",
       "Name_SubFam     415\n",
       "dtype: int64"
      ]
     },
     "execution_count": 31,
     "metadata": {},
     "output_type": "execute_result"
    }
   ],
   "source": [
    "# Check null values\n",
    "articulos_merged.isnull().sum()"
   ]
  },
  {
   "cell_type": "code",
   "execution_count": 32,
   "id": "4f15ee06-705b-488d-ab17-65ed14e54789",
   "metadata": {},
   "outputs": [
    {
     "name": "stdout",
     "output_type": "stream",
     "text": [
      "     ItemCode            ItemName    Desing FrozenFor     NameFam  \\\n",
      "4219      NaN  TALONARIO 12 COMBO  NoDesing         N  TALONARIOS   \n",
      "\n",
      "     Name_LinProd Name_SubFam  \n",
      "4219    CHBK LATH  TALONARIOS  \n"
     ]
    }
   ],
   "source": [
    "# Which item are the null values of ItemCode\n",
    "null_itemcode = articulos_merged.loc[articulos_merged['ItemCode'].isnull()]\n",
    "print(null_itemcode)"
   ]
  },
  {
   "cell_type": "markdown",
   "id": "76cfda4d-e16f-489f-8cda-863415a04dc8",
   "metadata": {},
   "source": [
    "We remove the null value, that are **TALONARIO 12 COMBO**. It is not a type of contact lense."
   ]
  },
  {
   "cell_type": "code",
   "execution_count": 33,
   "id": "9442d274-7afb-44bf-9db5-c14cb7ef1d0a",
   "metadata": {},
   "outputs": [],
   "source": [
    "# Dropping null values\n",
    "articulos_merged.dropna(subset=['ItemCode'], inplace=True)"
   ]
  },
  {
   "cell_type": "code",
   "execution_count": 34,
   "id": "f19c7db6-db91-4ed6-862d-f145331c97f7",
   "metadata": {},
   "outputs": [],
   "source": [
    "merged_orderRow = orderRow_ped_lin.merge(articulos_merged, on=\"ItemCode\", how='left')"
   ]
  },
  {
   "cell_type": "markdown",
   "id": "3111eb4e-3756-464a-b7d1-250ba9d7d479",
   "metadata": {},
   "source": [
    "***Merge of OrdeRow, pedlin and articulos table with JobOrder and pedlin***"
   ]
  },
  {
   "cell_type": "markdown",
   "id": "79cea0c5-2f14-41cd-834f-e291aba27348",
   "metadata": {},
   "source": [
    "In **joborder** we make a **left join**, since we are only interested in those rows that appear in **joborder**, since we need their scheduled date to make predictions"
   ]
  },
  {
   "cell_type": "code",
   "execution_count": 35,
   "id": "acff2f90-04e9-4cb8-9130-112455dc27bc",
   "metadata": {},
   "outputs": [],
   "source": [
    "merged_table = joborder.merge(merged_orderRow, on=[\"CONF_CODE\", \"ORDER_ROW\"], how='left')"
   ]
  },
  {
   "cell_type": "markdown",
   "id": "6c0b5920-52c2-465a-9ee4-16cb1fcfae4c",
   "metadata": {
    "tags": []
   },
   "source": [
    "## **CLEANING MERGED TABLE**\n"
   ]
  },
  {
   "cell_type": "code",
   "execution_count": 36,
   "id": "d5c18e7b-d60f-4127-a126-0828b2b33684",
   "metadata": {},
   "outputs": [],
   "source": [
    "cleaning_table = merged_table"
   ]
  },
  {
   "cell_type": "markdown",
   "id": "efa06680-ac98-4228-80ec-cd280801ebea",
   "metadata": {},
   "source": [
    "## **Combining columns from JobOrder and Pedlin**\n"
   ]
  },
  {
   "cell_type": "markdown",
   "id": "2e02fe4b-450b-4155-b558-f706d925f231",
   "metadata": {},
   "source": [
    "Here, we will merge the columns that are repeated in **PedLin** and **Job Order**"
   ]
  },
  {
   "cell_type": "markdown",
   "id": "41e42ac9-ec26-4c74-abba-2e078074f2c1",
   "metadata": {},
   "source": [
    "***Combination of **BASE_RADIUS** and **Radio*****"
   ]
  },
  {
   "cell_type": "markdown",
   "id": "d308fc08-b359-440d-b35d-6d24cca3275e",
   "metadata": {},
   "source": [
    "**Standarizing** values to do the merge of columns"
   ]
  },
  {
   "cell_type": "code",
   "execution_count": 37,
   "id": "74735b4a-f59b-46bc-a903-d3c99b7e2e6e",
   "metadata": {},
   "outputs": [
    {
     "name": "stderr",
     "output_type": "stream",
     "text": [
      "C:\\Users\\David\\AppData\\Local\\Temp\\ipykernel_13860\\2616542636.py:17: FutureWarning: The default value of regex will change from True to False in a future version.\n",
      "  cleaning_table['BASE_RADIUS'] = cleaning_table['BASE_RADIUS'].str.replace('\\.0$', '')\n"
     ]
    },
    {
     "name": "stdout",
     "output_type": "stream",
     "text": [
      "['8.9' '9.2' '8' '8.6' '8.7' '8.3' '7.4' '7.7' '8.4' '9.8' '8.2' '9.5'\n",
      " '8.8' '9' '7.6' '9.6' '7.1' '9.4' '7.8' '6.3' '6.8' '10.1' '7.3' '8.5'\n",
      " '7.9' '7.5' '9.1' '9.3' '6.6' '6.5' '6.2' '5.9' '6' '7' '8.1' '5' '10'\n",
      " '16.3' '7.2' '4' '2.2' '40' 'nan']\n"
     ]
    }
   ],
   "source": [
    "# Convert 'BASE_RADIUS' column to string type\n",
    "cleaning_table['BASE_RADIUS'] = cleaning_table['BASE_RADIUS'].astype(str)\n",
    "\n",
    "# Replace comma with dot in 'BASE_RADIUS' column\n",
    "cleaning_table['BASE_RADIUS'] = cleaning_table['BASE_RADIUS'].str.replace(',', '.')\n",
    "\n",
    "# Convert 'BASE_RADIUS' column to numeric data type\n",
    "cleaning_table['BASE_RADIUS'] = pd.to_numeric(cleaning_table['BASE_RADIUS'], errors='coerce')\n",
    "\n",
    "# Round 'BASE_RADIUS' column to one decimal place\n",
    "cleaning_table['BASE_RADIUS'] = cleaning_table['BASE_RADIUS'].round(1)\n",
    "\n",
    "# Convert 'BASE_RADIUS' column to string type\n",
    "cleaning_table['BASE_RADIUS'] = cleaning_table['BASE_RADIUS'].astype(str)\n",
    "\n",
    "# Remove the dot and following zero for numbers without decimals\n",
    "cleaning_table['BASE_RADIUS'] = cleaning_table['BASE_RADIUS'].str.replace('\\.0$', '')\n",
    "\n",
    "# Check the unique values in the modified 'BASE_RADIUS' column\n",
    "print(cleaning_table['BASE_RADIUS'].unique())"
   ]
  },
  {
   "cell_type": "code",
   "execution_count": 38,
   "id": "1220420a-7e78-4c59-b4f0-c68eaaa5f091",
   "metadata": {},
   "outputs": [],
   "source": [
    "# Combine the \"BASE_RADIUS\" and \"Radio\" columns into a new column\n",
    "cleaning_table[\"Combined_Radius\"] = cleaning_table[\"BASE_RADIUS\"].combine_first(cleaning_table[\"Radio\"])\n",
    "\n",
    "# Drop the original \"BASE_RADIUS\" and \"Radio\" columns if needed\n",
    "cleaning_table.drop([\"BASE_RADIUS\", \"Radio\"], axis=1, inplace=True)"
   ]
  },
  {
   "cell_type": "code",
   "execution_count": 39,
   "id": "f99a5982-dc54-4621-a60d-85ca25b168b4",
   "metadata": {},
   "outputs": [],
   "source": [
    "cleaning_table[\"Combined_Radius\"] = cleaning_table[\"Combined_Radius\"].astype(float)"
   ]
  },
  {
   "cell_type": "markdown",
   "id": "f400c020-2cd6-4c9d-a0a2-238f06d55e10",
   "metadata": {},
   "source": [
    "***Combination of **DIAMETER** and **Diametro*****"
   ]
  },
  {
   "cell_type": "markdown",
   "id": "318f2162-bb72-444b-a95a-3971cb3611d4",
   "metadata": {},
   "source": [
    "**Standarizing** values to do the merge of columns"
   ]
  },
  {
   "cell_type": "code",
   "execution_count": 40,
   "id": "b2540388-8eb7-499c-9171-2d9f004614db",
   "metadata": {},
   "outputs": [
    {
     "name": "stdout",
     "output_type": "stream",
     "text": [
      "['14.5' '14.4' '13.0' '14.0' '15.0' '13.5' '15.5' '16.0' '12.5' '14.2'\n",
      " '13.8' '14.3' '17.0' '12.0' '13.1' '11.5' '11.0' '16.5' '10.0' '14.8'\n",
      " '9.8' '9.6' '9.4' '7.0' '12.2' '9.2' '9.0' '8.8' '17.5' '18.0' '9.5'\n",
      " '14.7' '6.0' '4.0' '29.5' '29.8' 'nan' '8.0' '11.4']\n"
     ]
    }
   ],
   "source": [
    "# Convert 'DIAMETER' column to string type\n",
    "cleaning_table['DIAMETER'] = cleaning_table['DIAMETER'].astype(str)\n",
    "\n",
    "# Replace comma with dot in 'DIAMETER' column\n",
    "cleaning_table['DIAMETER'] = cleaning_table['DIAMETER'].str.replace(',', '.')\n",
    "\n",
    "# Convert 'DIAMETER' column to numeric data type\n",
    "cleaning_table['DIAMETER'] = pd.to_numeric(cleaning_table['DIAMETER'], errors='coerce')\n",
    "\n",
    "# Round 'DIAMETER' column to one decimal place\n",
    "cleaning_table['DIAMETER'] = cleaning_table['DIAMETER'].round(1)\n",
    "\n",
    "# Convert numbers without decimals to string with '.0'\n",
    "cleaning_table['DIAMETER'] = cleaning_table['DIAMETER'].apply(lambda x: f\"{x:.1f}\" if x % 1 != 0 else f\"{int(x)}.0\")\n",
    "\n",
    "# Check the unique values in the modified 'DIAMETER' column\n",
    "print(cleaning_table['DIAMETER'].unique())"
   ]
  },
  {
   "cell_type": "code",
   "execution_count": 41,
   "id": "efb63c74-9603-44b4-a53b-81bc87c61fa6",
   "metadata": {},
   "outputs": [
    {
     "name": "stdout",
     "output_type": "stream",
     "text": [
      "['14.500000' '14.400000' '13.000000' '14.000000' '15.000000' 'nan'\n",
      " '13.500000' '15.500000' '16.000000' '' '12.500000' '9.600000' '12.000000'\n",
      " '18.000000' '17.500000' '17.000000' '11.500000' '.000000' '16.500000'\n",
      " '14.300000']\n"
     ]
    }
   ],
   "source": [
    "# Convert 'Diametro' column to string type\n",
    "cleaning_table['Diametro'] = cleaning_table['Diametro'].astype(str)\n",
    "\n",
    "# Replace decimal comma with dot in 'Diametro' column\n",
    "cleaning_table['Diametro'] = cleaning_table['Diametro'].str.replace(',', '.')\n",
    "\n",
    "# Iterate over the 'Diametro' column and update the values\n",
    "for i, value in enumerate(cleaning_table['Diametro']):\n",
    "    if value.isnumeric():\n",
    "        cleaning_table.at[i, 'Diametro'] = f\"{value}.0\"\n",
    "\n",
    "# Check the unique values in the modified 'Diametro' column\n",
    "print(cleaning_table['Diametro'].unique())"
   ]
  },
  {
   "cell_type": "code",
   "execution_count": 42,
   "id": "42eab1f5-22a1-4336-bb49-d86449304a18",
   "metadata": {},
   "outputs": [],
   "source": [
    "# Combine the \"DIAMETER\" and \"Diametro\" columns into a new column\n",
    "cleaning_table[\"Combined_Diameter\"] = cleaning_table[\"DIAMETER\"].combine_first(merged_table[\"Diametro\"])\n",
    "\n",
    "# Drop the original \"DIAMETER\" and \"Diametro\" columns if needed\n",
    "cleaning_table.drop([\"DIAMETER\", \"Diametro\"], axis=1, inplace=True)"
   ]
  },
  {
   "cell_type": "code",
   "execution_count": 43,
   "id": "93f1b973-37f5-4807-a2f1-4f8ec0a5a5d0",
   "metadata": {},
   "outputs": [],
   "source": [
    "cleaning_table[\"Combined_Diameter\"] = cleaning_table[\"Combined_Diameter\"].astype(float)"
   ]
  },
  {
   "cell_type": "markdown",
   "id": "a093cd4b-308a-42a8-8b3d-42980e7cae3a",
   "metadata": {},
   "source": [
    "***Combination of **POWER** and **Esfera*****"
   ]
  },
  {
   "cell_type": "code",
   "execution_count": 44,
   "id": "dd648a85-2211-4e74-a419-7e2868651cf0",
   "metadata": {},
   "outputs": [],
   "source": [
    "# Combine the \"POWER\" and \"Esfera\" columns into a new column\n",
    "cleaning_table[\"Combined_Power\"] = cleaning_table[\"POWER\"].combine_first(cleaning_table[\"Esfera\"])\n",
    "\n",
    "# Drop the original \"POWER\" and \"Esfera\" columns if needed\n",
    "cleaning_table.drop([\"POWER\", \"Esfera\"], axis=1, inplace=True)"
   ]
  },
  {
   "cell_type": "markdown",
   "id": "945499ef-2065-451c-9390-6dc3035914c5",
   "metadata": {},
   "source": [
    "**Standarizing** values"
   ]
  },
  {
   "cell_type": "code",
   "execution_count": 45,
   "id": "091ee35a-8cda-4b59-a1d7-4571083bbfc9",
   "metadata": {},
   "outputs": [
    {
     "name": "stderr",
     "output_type": "stream",
     "text": [
      "C:\\Users\\David\\AppData\\Local\\Temp\\ipykernel_13860\\3773099314.py:2: FutureWarning: The default value of regex will change from True to False in a future version.\n",
      "  cleaning_table['Combined_Power'] = cleaning_table['Combined_Power'].str.replace(r'(?<!\\d)\\.(?!\\d)', '0')\n",
      "C:\\Users\\David\\AppData\\Local\\Temp\\ipykernel_13860\\3773099314.py:3: FutureWarning: The default value of regex will change from True to False in a future version.\n",
      "  cleaning_table['Combined_Power'] = cleaning_table['Combined_Power'].str.replace(r'-(?=\\.)', '-0')\n"
     ]
    }
   ],
   "source": [
    "cleaning_table['Combined_Power'] = cleaning_table['Combined_Power'].str.replace(',', '.')\n",
    "cleaning_table['Combined_Power'] = cleaning_table['Combined_Power'].str.replace(r'(?<!\\d)\\.(?!\\d)', '0')\n",
    "cleaning_table['Combined_Power'] = cleaning_table['Combined_Power'].str.replace(r'-(?=\\.)', '-0')\n",
    "cleaning_table[\"Combined_Power\"] = cleaning_table[\"Combined_Power\"].astype(float)"
   ]
  },
  {
   "cell_type": "markdown",
   "id": "2bb0ad3e-dcb8-4fff-aa75-932ef2b4d012",
   "metadata": {},
   "source": [
    "***Combination of **CYLINDER** and **Cilindro*****"
   ]
  },
  {
   "cell_type": "markdown",
   "id": "2da37dc4-f41d-48ef-be6e-b6e5ae695d02",
   "metadata": {},
   "source": [
    "**Standarizing** values to do the merge of columns"
   ]
  },
  {
   "cell_type": "code",
   "execution_count": 46,
   "id": "785f6a4a-84b0-4f71-bc4e-b7a358a121f7",
   "metadata": {},
   "outputs": [
    {
     "name": "stderr",
     "output_type": "stream",
     "text": [
      "C:\\Users\\David\\AppData\\Local\\Temp\\ipykernel_13860\\3891686047.py:1: FutureWarning: The default value of regex will change from True to False in a future version.\n",
      "  cleaning_table[\"CYLINDER\"] = cleaning_table[\"CYLINDER\"].str.replace(\",\", \".\").str.replace(r\"(?<!\\d)\\.\", \"0.\").astype(float).round(2)\n"
     ]
    }
   ],
   "source": [
    "cleaning_table[\"CYLINDER\"] = cleaning_table[\"CYLINDER\"].str.replace(\",\", \".\").str.replace(r\"(?<!\\d)\\.\", \"0.\").astype(float).round(2)"
   ]
  },
  {
   "cell_type": "code",
   "execution_count": 47,
   "id": "e55fa3bf-db5e-4b6d-866d-072c1797d7e7",
   "metadata": {},
   "outputs": [
    {
     "name": "stderr",
     "output_type": "stream",
     "text": [
      "C:\\Users\\David\\AppData\\Local\\Temp\\ipykernel_13860\\3464817192.py:1: FutureWarning: The default value of regex will change from True to False in a future version.\n",
      "  cleaning_table[\"Cilindro\"] = cleaning_table[\"Cilindro\"].str.replace(\",\", \".\").str.replace(r\"(?<!\\d)\\.\", \"0.\")\n"
     ]
    }
   ],
   "source": [
    "cleaning_table[\"Cilindro\"] = cleaning_table[\"Cilindro\"].str.replace(\",\", \".\").str.replace(r\"(?<!\\d)\\.\", \"0.\")\n",
    "cleaning_table[\"Cilindro\"] = cleaning_table[\"Cilindro\"].replace('', '0').astype(float).round(2)"
   ]
  },
  {
   "cell_type": "code",
   "execution_count": 48,
   "id": "a63ae23b-48d2-4eec-a640-31dcd041f346",
   "metadata": {},
   "outputs": [],
   "source": [
    "# Combine the \"CYLINDER\" and \"Cilindro\" columns into a new column\n",
    "cleaning_table[\"Combined_Cylinder\"] = cleaning_table[\"CYLINDER\"].combine_first(cleaning_table[\"Cilindro\"])\n",
    "\n",
    "# Drop the original \"CYLINDER\" and \"Cilindro\" columns\n",
    "cleaning_table.drop([\"CYLINDER\", \"Cilindro\"], axis=1, inplace=True)"
   ]
  },
  {
   "cell_type": "markdown",
   "id": "584c753f-f823-47d1-bddb-062ddc733901",
   "metadata": {},
   "source": [
    "***Combination of **POWER_AXIS** and **Eje*****"
   ]
  },
  {
   "cell_type": "markdown",
   "id": "8bfe6b09-d68b-444b-be96-04b53df8afbe",
   "metadata": {},
   "source": [
    "**Standarizing** values to make the merges"
   ]
  },
  {
   "cell_type": "code",
   "execution_count": 49,
   "id": "16392f92-f4da-44b9-9c20-bac902ec68a8",
   "metadata": {},
   "outputs": [],
   "source": [
    "cleaning_table[\"Eje\"] = cleaning_table[\"Eje\"].replace('', '0')\n",
    "cleaning_table[\"POWER_AXIS\"] = cleaning_table[\"POWER_AXIS\"].replace('', '0')\n",
    "cleaning_table[\"POWER_AXIS\"] = cleaning_table[\"POWER_AXIS\"].str.split(\",\", expand=True)[0]\n",
    "cleaning_table[\"POWER_AXIS\"] = cleaning_table[\"POWER_AXIS\"].str.split(\",\", expand=True)[0]\n",
    "cleaning_table[\"POWER_AXIS\"] = cleaning_table[\"POWER_AXIS\"].replace('', '0')\n",
    "cleaning_table[\"Eje\"] = cleaning_table[\"Eje\"].astype(float)\n",
    "cleaning_table[\"POWER_AXIS\"] = cleaning_table[\"POWER_AXIS\"].astype(float)"
   ]
  },
  {
   "cell_type": "code",
   "execution_count": 50,
   "id": "b04b691b-62ff-410e-8fdb-02ceef00aaad",
   "metadata": {},
   "outputs": [],
   "source": [
    "# Combine the \"CYLINDER\" and \"Cilindro\" columns into a new column\n",
    "cleaning_table[\"Combined_Axis\"] = cleaning_table[\"POWER_AXIS\"].combine_first(cleaning_table[\"Eje\"])\n",
    "\n",
    "# Drop the original \"CYLINDER\" and \"Cilindro\" columns if needed\n",
    "cleaning_table.drop([\"POWER_AXIS\", \"Eje\"], axis=1, inplace=True)"
   ]
  },
  {
   "cell_type": "code",
   "execution_count": 51,
   "id": "05d236e9-bf6e-4d95-977b-9c516b49dc68",
   "metadata": {},
   "outputs": [],
   "source": [
    "final_table = cleaning_table"
   ]
  },
  {
   "cell_type": "markdown",
   "id": "a123b37e-092d-459d-92e4-c4848ecddb18",
   "metadata": {},
   "source": [
    "**EXPORTING FINAL TABLE TO CSV**"
   ]
  },
  {
   "cell_type": "markdown",
   "id": "388ebbbf-34ef-4e32-a9ca-2e196c57358b",
   "metadata": {},
   "source": [
    "We export the final table as csv, so we don't have to run the whole notebook every time, and we just have to import that table."
   ]
  },
  {
   "cell_type": "code",
   "execution_count": 52,
   "id": "8311cd27-0fed-4f3b-82b9-7318a06a3b49",
   "metadata": {},
   "outputs": [],
   "source": [
    "import pandas as pd\n",
    "final_table.to_csv('../Capstone/final_table.csv',index=False)"
   ]
  },
  {
   "cell_type": "markdown",
   "id": "370218ff-de1d-4914-9ad5-f55fd84ffafa",
   "metadata": {},
   "source": [
    "**IMPORTING FINAL TABLE AS CSV**"
   ]
  },
  {
   "cell_type": "code",
   "execution_count": 1,
   "id": "ae7b8010-28e1-4c09-8804-23dbf806148c",
   "metadata": {},
   "outputs": [
    {
     "name": "stderr",
     "output_type": "stream",
     "text": [
      "C:\\Users\\David\\AppData\\Local\\Temp\\ipykernel_4188\\1918386789.py:2: DtypeWarning: Columns (2,11,12,15,20,32) have mixed types. Specify dtype option on import or set low_memory=False.\n",
      "  final_table = pd.read_csv(\"final_table.csv\")\n"
     ]
    }
   ],
   "source": [
    "import pandas as pd\n",
    "final_table = pd.read_csv(\"final_table.csv\")"
   ]
  },
  {
   "cell_type": "markdown",
   "id": "6f321233-2ec1-49a4-b063-31648a476077",
   "metadata": {},
   "source": [
    "## **DROPPING IRRELEVANT VARIABLES FOR THE MODEL**\n"
   ]
  },
  {
   "cell_type": "markdown",
   "id": "3664f092-37de-4a6e-a814-01d95e593ce2",
   "metadata": {},
   "source": [
    "Firstly, we **drop irrelevant columns** for the model"
   ]
  },
  {
   "cell_type": "code",
   "execution_count": 2,
   "id": "7246b462-aa82-401e-9e97-35cfa61b11ac",
   "metadata": {},
   "outputs": [],
   "source": [
    "model_table = final_table.drop(columns=[\"CONF_CODE\",\"ORDER_ROW\", \"JO_PROG\", \"STATE\", \"CUST_CODE\", \"PRESCRIPTION\", \"PRIORITY_COMP\", \"PRODUCT_CODE\",\n",
    "                          \"MATERIAL_CODE\", \"BATCH_NUMBER\", \"LATHE_SETUP\", \"STEEP_RADIUS\", \"BACK_AXIS\", \"JUNCTION_THK\", \n",
    "                          \"EDGE_THK\", \"MEAS_BASE_RADIUS\", \"MEAS_STEEP_RADIUS\", \"TRAY_CODE\", \"STERIL_CODE\", \n",
    "                          \"STERIL_BATCH\", \"LABEL_PRINTED\", \"LAUNCH_DATE\", \"REJECTS_QTY\", \"DELIVERY_DATE\", \"Numero_Pedido\",\n",
    "                          \"Linea_Pedido\", \"ItemCode\", \"Prod_sId\", \"Comments\", \"Desing\", \"FrozenFor\",  \"NameFam\", \"ItemName\"])"
   ]
  },
  {
   "cell_type": "markdown",
   "id": "e3113f87-8472-4f7b-be66-7cd3440a1b86",
   "metadata": {},
   "source": [
    "**CHECK VALUES SCHEDULED_QTY > 1**"
   ]
  },
  {
   "cell_type": "code",
   "execution_count": 3,
   "id": "df28f9be-7593-4465-a65e-7d7be4352d18",
   "metadata": {},
   "outputs": [
    {
     "name": "stdout",
     "output_type": "stream",
     "text": [
      "[nan]\n"
     ]
    }
   ],
   "source": [
    "filtered_rows = model_table.loc[model_table['SCHEDULED_QTY'] > 1]\n",
    "unique_values = filtered_rows['Name_SubFam'].unique()\n",
    "\n",
    "print(unique_values)"
   ]
  },
  {
   "cell_type": "code",
   "execution_count": 4,
   "id": "0af8d350-4365-47ec-879f-8a89a38e2df1",
   "metadata": {},
   "outputs": [
    {
     "name": "stdout",
     "output_type": "stream",
     "text": [
      "[nan]\n"
     ]
    }
   ],
   "source": [
    "filtered_rows_1 = model_table.loc[model_table['SCHEDULED_QTY'] > 1]\n",
    "unique_values_1 = filtered_rows_1['Name_LinProd'].unique()\n",
    "\n",
    "print(unique_values_1)"
   ]
  },
  {
   "cell_type": "markdown",
   "id": "2b129d3b-949a-4759-8cda-97d006aebd39",
   "metadata": {},
   "source": [
    "We drop all the null values from SCHEDULED_QTY equal or bigger than 2, since they are all null values for **\"Name_SubFam\"** and **\"Name_LinProd\"**"
   ]
  },
  {
   "cell_type": "code",
   "execution_count": 5,
   "id": "4bb20292-408a-4a59-8591-5c3cc96e7541",
   "metadata": {},
   "outputs": [],
   "source": [
    "model_table = model_table.drop(model_table[model_table['SCHEDULED_QTY'] >= 2].index)"
   ]
  },
  {
   "cell_type": "markdown",
   "id": "cc35faab-44bc-4de3-9c80-adbb36eb7af0",
   "metadata": {},
   "source": [
    "**Standarize CENTER_THK and Adicion**"
   ]
  },
  {
   "cell_type": "markdown",
   "id": "9b98a24f-918a-48c4-8467-992f3fd0e866",
   "metadata": {},
   "source": [
    "Convert **CENTER_THK** into a float"
   ]
  },
  {
   "cell_type": "code",
   "execution_count": 6,
   "id": "565ef11c-5b22-4896-9595-53b738d32492",
   "metadata": {},
   "outputs": [],
   "source": [
    "model_table[\"CENTER_THK\"] = model_table[\"CENTER_THK\"].str.replace(\",\", \"\").astype(float)\n",
    "model_table[\"Adicion\"] = model_table[\"Adicion\"].str.replace(\",\", \"\").astype(float)"
   ]
  },
  {
   "cell_type": "markdown",
   "id": "363cf681-6183-4e79-9733-77fd39151718",
   "metadata": {},
   "source": [
    "**Changing the SCHEDULED_DATA to datetime**"
   ]
  },
  {
   "cell_type": "markdown",
   "id": "23e53b7a-e02f-4c74-a6fe-dbbe0bb46f9f",
   "metadata": {},
   "source": [
    "We change the **SCHEDULED_DATA** into datatime format"
   ]
  },
  {
   "cell_type": "code",
   "execution_count": 7,
   "id": "307c9166-9e6e-40ca-b592-06fcb88c04d3",
   "metadata": {},
   "outputs": [],
   "source": [
    "model_table['SCHEDULED_DATE'] = pd.to_datetime(model_table['SCHEDULED_DATE'])"
   ]
  },
  {
   "cell_type": "markdown",
   "id": "6d82e4ef-6f16-47aa-a6a7-31af84dd9d74",
   "metadata": {},
   "source": [
    "**Dropping null values of SCHEDULED_DATE to datetime**"
   ]
  },
  {
   "cell_type": "code",
   "execution_count": 8,
   "id": "36a0f785-2f75-448c-96c0-dc6ff6923848",
   "metadata": {},
   "outputs": [
    {
     "data": {
      "text/plain": [
       "CENTER_THK            60161\n",
       "SCHEDULED_DATE        60162\n",
       "SCHEDULED_QTY             2\n",
       "Adicion              127375\n",
       "Name_LinProd         122601\n",
       "Name_SubFam          122601\n",
       "Combined_Radius           2\n",
       "Combined_Diameter         2\n",
       "Combined_Power            1\n",
       "Combined_Cylinder     67485\n",
       "Combined_Axis         67484\n",
       "dtype: int64"
      ]
     },
     "execution_count": 8,
     "metadata": {},
     "output_type": "execute_result"
    }
   ],
   "source": [
    "model_table.isnull().sum()"
   ]
  },
  {
   "cell_type": "code",
   "execution_count": 9,
   "id": "ba8c74bb-b37c-4e32-8ebc-d481220939cf",
   "metadata": {},
   "outputs": [],
   "source": [
    "model_table.dropna(subset=['SCHEDULED_DATE'], inplace=True)"
   ]
  },
  {
   "cell_type": "markdown",
   "id": "fbeaea69-0c2d-4353-8285-bdfdb50f7d57",
   "metadata": {},
   "source": [
    "A total of **60162 null values** are dropped. We drop them because we need the DATE each contact lense has been produced to make the predictions."
   ]
  },
  {
   "cell_type": "markdown",
   "id": "7cdf0bb8-99ac-4b22-a4e0-b02f9881f6ac",
   "metadata": {},
   "source": [
    "**Impute null values of Combined_Cylinder and Combined_Axis**"
   ]
  },
  {
   "cell_type": "markdown",
   "id": "81bb4a5a-edda-40fc-929e-58b2607f9ecd",
   "metadata": {},
   "source": [
    "Replace null values from those columns since we consider 0 means that a contact lense is not using that feature. We dont want to drop them because we would drop the entire row, eliminating deleting relevant information"
   ]
  },
  {
   "cell_type": "code",
   "execution_count": 10,
   "id": "5192811a-fe9d-495f-b033-1f9960649e04",
   "metadata": {},
   "outputs": [
    {
     "data": {
      "text/plain": [
       "CENTER_THK                0\n",
       "SCHEDULED_DATE            0\n",
       "SCHEDULED_QTY             0\n",
       "Adicion              125603\n",
       "Name_LinProd         121119\n",
       "Name_SubFam          121119\n",
       "Combined_Radius           0\n",
       "Combined_Diameter         0\n",
       "Combined_Power            0\n",
       "Combined_Cylinder     66232\n",
       "Combined_Axis         66232\n",
       "dtype: int64"
      ]
     },
     "execution_count": 10,
     "metadata": {},
     "output_type": "execute_result"
    }
   ],
   "source": [
    "model_table.isnull().sum()"
   ]
  },
  {
   "cell_type": "code",
   "execution_count": 11,
   "id": "a19260ed-6d72-4922-a8ca-97c4038b37aa",
   "metadata": {},
   "outputs": [],
   "source": [
    "model_table['Combined_Cylinder'].fillna(0, inplace=True)\n",
    "model_table['Combined_Axis'].fillna(0, inplace=True)\n",
    "model_table['Adicion'].fillna(0, inplace=True)"
   ]
  },
  {
   "cell_type": "markdown",
   "id": "ec937dc4-9376-4c24-a7dd-57d713dc3573",
   "metadata": {},
   "source": [
    "**PIVOT TABLE**"
   ]
  },
  {
   "cell_type": "markdown",
   "id": "b981c21a-d20f-4770-8c3f-985cbd66206e",
   "metadata": {},
   "source": [
    "This pivot table groups by Name_linProd and Name_subFam, summing up the total amount produced of each type"
   ]
  },
  {
   "cell_type": "markdown",
   "id": "da52c48e-2a26-406c-8383-5da70e8e71d3",
   "metadata": {},
   "source": [
    "Firstly, we check what are the type of contact lenses more repeated"
   ]
  },
  {
   "cell_type": "code",
   "execution_count": 12,
   "id": "20a504b0-dee0-4bf6-99be-b1ecc09e9885",
   "metadata": {},
   "outputs": [],
   "source": [
    "# Assuming 'final_table' is your DataFrame containing the data\n",
    "pivot_table = pd.pivot_table(model_table, \n",
    "                             values='SCHEDULED_QTY', \n",
    "                             index=['Name_LinProd',\"Name_SubFam\", 'Combined_Power', \"Combined_Radius\", \"CENTER_THK\", \"Combined_Diameter\", \"Combined_Cylinder\", \"Combined_Axis\", \"Adicion\"], \n",
    "                             aggfunc='count')\n",
    "pivot_table = pivot_table.sort_values(by='SCHEDULED_QTY', ascending=False)"
   ]
  },
  {
   "cell_type": "code",
   "execution_count": 13,
   "id": "6fc818f1-81b1-4511-90f7-f35b50d99bab",
   "metadata": {},
   "outputs": [
    {
     "data": {
      "text/html": [
       "<div>\n",
       "<style scoped>\n",
       "    .dataframe tbody tr th:only-of-type {\n",
       "        vertical-align: middle;\n",
       "    }\n",
       "\n",
       "    .dataframe tbody tr th {\n",
       "        vertical-align: top;\n",
       "    }\n",
       "\n",
       "    .dataframe thead th {\n",
       "        text-align: right;\n",
       "    }\n",
       "</style>\n",
       "<table border=\"1\" class=\"dataframe\">\n",
       "  <thead>\n",
       "    <tr style=\"text-align: right;\">\n",
       "      <th></th>\n",
       "      <th></th>\n",
       "      <th></th>\n",
       "      <th></th>\n",
       "      <th></th>\n",
       "      <th></th>\n",
       "      <th></th>\n",
       "      <th></th>\n",
       "      <th></th>\n",
       "      <th>SCHEDULED_QTY</th>\n",
       "    </tr>\n",
       "    <tr>\n",
       "      <th>Name_LinProd</th>\n",
       "      <th>Name_SubFam</th>\n",
       "      <th>Combined_Power</th>\n",
       "      <th>Combined_Radius</th>\n",
       "      <th>CENTER_THK</th>\n",
       "      <th>Combined_Diameter</th>\n",
       "      <th>Combined_Cylinder</th>\n",
       "      <th>Combined_Axis</th>\n",
       "      <th>Adicion</th>\n",
       "      <th></th>\n",
       "    </tr>\n",
       "  </thead>\n",
       "  <tbody>\n",
       "    <tr>\n",
       "      <th rowspan=\"5\" valign=\"top\">SAPHIR RX</th>\n",
       "      <th rowspan=\"5\" valign=\"top\">SPHERIC</th>\n",
       "      <th>0.00</th>\n",
       "      <th>8.9</th>\n",
       "      <th>1600.0</th>\n",
       "      <th>16.0</th>\n",
       "      <th>0.00</th>\n",
       "      <th>0.0</th>\n",
       "      <th>0.0</th>\n",
       "      <td>5620</td>\n",
       "    </tr>\n",
       "    <tr>\n",
       "      <th>-15.00</th>\n",
       "      <th>8.6</th>\n",
       "      <th>1200.0</th>\n",
       "      <th>14.5</th>\n",
       "      <th>0.00</th>\n",
       "      <th>0.0</th>\n",
       "      <th>0.0</th>\n",
       "      <td>5609</td>\n",
       "    </tr>\n",
       "    <tr>\n",
       "      <th>-16.00</th>\n",
       "      <th>8.6</th>\n",
       "      <th>1200.0</th>\n",
       "      <th>14.5</th>\n",
       "      <th>0.00</th>\n",
       "      <th>0.0</th>\n",
       "      <th>0.0</th>\n",
       "      <td>5580</td>\n",
       "    </tr>\n",
       "    <tr>\n",
       "      <th>-14.00</th>\n",
       "      <th>8.6</th>\n",
       "      <th>1200.0</th>\n",
       "      <th>14.5</th>\n",
       "      <th>0.00</th>\n",
       "      <th>0.0</th>\n",
       "      <th>0.0</th>\n",
       "      <td>5568</td>\n",
       "    </tr>\n",
       "    <tr>\n",
       "      <th>-13.00</th>\n",
       "      <th>8.6</th>\n",
       "      <th>1200.0</th>\n",
       "      <th>14.5</th>\n",
       "      <th>0.00</th>\n",
       "      <th>0.0</th>\n",
       "      <th>0.0</th>\n",
       "      <td>5539</td>\n",
       "    </tr>\n",
       "    <tr>\n",
       "      <th>...</th>\n",
       "      <th>...</th>\n",
       "      <th>...</th>\n",
       "      <th>...</th>\n",
       "      <th>...</th>\n",
       "      <th>...</th>\n",
       "      <th>...</th>\n",
       "      <th>...</th>\n",
       "      <th>...</th>\n",
       "      <td>...</td>\n",
       "    </tr>\n",
       "    <tr>\n",
       "      <th>GENTLE 59</th>\n",
       "      <th>TORIC</th>\n",
       "      <th>-2.50</th>\n",
       "      <th>7.7</th>\n",
       "      <th>1969.0</th>\n",
       "      <th>14.0</th>\n",
       "      <th>-0.75</th>\n",
       "      <th>70.0</th>\n",
       "      <th>0.0</th>\n",
       "      <td>1</td>\n",
       "    </tr>\n",
       "    <tr>\n",
       "      <th>SAPHIR RX</th>\n",
       "      <th>MULTIFOCAL TORIC</th>\n",
       "      <th>-3.75</th>\n",
       "      <th>8.3</th>\n",
       "      <th>2155.0</th>\n",
       "      <th>14.5</th>\n",
       "      <th>-1.75</th>\n",
       "      <th>90.0</th>\n",
       "      <th>1000000.0</th>\n",
       "      <td>1</td>\n",
       "    </tr>\n",
       "    <tr>\n",
       "      <th rowspan=\"2\" valign=\"top\">GENTLE 59</th>\n",
       "      <th rowspan=\"2\" valign=\"top\">TORIC</th>\n",
       "      <th rowspan=\"2\" valign=\"top\">-2.50</th>\n",
       "      <th rowspan=\"2\" valign=\"top\">7.7</th>\n",
       "      <th>1970.0</th>\n",
       "      <th>14.5</th>\n",
       "      <th>-0.75</th>\n",
       "      <th>70.0</th>\n",
       "      <th>0.0</th>\n",
       "      <td>1</td>\n",
       "    </tr>\n",
       "    <tr>\n",
       "      <th>1972.0</th>\n",
       "      <th>14.5</th>\n",
       "      <th>-2.75</th>\n",
       "      <th>105.0</th>\n",
       "      <th>0.0</th>\n",
       "      <td>1</td>\n",
       "    </tr>\n",
       "    <tr>\n",
       "      <th>SAPHIR 3M</th>\n",
       "      <th>MULTIFOCAL TORIC</th>\n",
       "      <th>-5.00</th>\n",
       "      <th>8.0</th>\n",
       "      <th>1739.0</th>\n",
       "      <th>14.0</th>\n",
       "      <th>-2.75</th>\n",
       "      <th>160.0</th>\n",
       "      <th>2500000.0</th>\n",
       "      <td>1</td>\n",
       "    </tr>\n",
       "  </tbody>\n",
       "</table>\n",
       "<p>2808773 rows × 1 columns</p>\n",
       "</div>"
      ],
      "text/plain": [
       "                                                                                                                                     SCHEDULED_QTY\n",
       "Name_LinProd Name_SubFam      Combined_Power Combined_Radius CENTER_THK Combined_Diameter Combined_Cylinder Combined_Axis Adicion                 \n",
       "SAPHIR RX    SPHERIC           0.00          8.9             1600.0     16.0               0.00             0.0           0.0                 5620\n",
       "                              -15.00         8.6             1200.0     14.5               0.00             0.0           0.0                 5609\n",
       "                              -16.00         8.6             1200.0     14.5               0.00             0.0           0.0                 5580\n",
       "                              -14.00         8.6             1200.0     14.5               0.00             0.0           0.0                 5568\n",
       "                              -13.00         8.6             1200.0     14.5               0.00             0.0           0.0                 5539\n",
       "...                                                                                                                                            ...\n",
       "GENTLE 59    TORIC            -2.50          7.7             1969.0     14.0              -0.75             70.0          0.0                    1\n",
       "SAPHIR RX    MULTIFOCAL TORIC -3.75          8.3             2155.0     14.5              -1.75             90.0          1000000.0              1\n",
       "GENTLE 59    TORIC            -2.50          7.7             1970.0     14.5              -0.75             70.0          0.0                    1\n",
       "                                                             1972.0     14.5              -2.75             105.0         0.0                    1\n",
       "SAPHIR 3M    MULTIFOCAL TORIC -5.00          8.0             1739.0     14.0              -2.75             160.0         2500000.0              1\n",
       "\n",
       "[2808773 rows x 1 columns]"
      ]
     },
     "execution_count": 13,
     "metadata": {},
     "output_type": "execute_result"
    }
   ],
   "source": [
    "pivot_table"
   ]
  },
  {
   "cell_type": "markdown",
   "id": "39367dba-710f-46ca-b1bb-d3993cdf2631",
   "metadata": {},
   "source": [
    "**Saphir Rx SPHERIC** are the lenses that appear the most. Then, checking the parameters, we know that the variables that this contact lense uses are **Combined_Power**, **CENTER_THK**, **Combined_Radius**, and **Combined_Diameter**."
   ]
  },
  {
   "cell_type": "markdown",
   "id": "8caeb6fb-a0ac-4c99-ab77-2aba97248378",
   "metadata": {},
   "source": [
    "By this pivot_table, we have also what is the number of times that a contact lense has been produced with its **agrupation of parameters**."
   ]
  },
  {
   "cell_type": "markdown",
   "id": "a6833985-0bd3-40a3-9246-41f5775972b0",
   "metadata": {},
   "source": [
    "This is the agrupation of parameters that has been produced the most for **Saphir Rx SPHERIC**:\n",
    "* **Combined_Power:** 0.00\n",
    "* **Combined_Radius:** 8.9\n",
    "* **CENTER_THK:** 1600\n",
    "* **Combined_Diameter:** 16.0\n",
    "\n"
   ]
  },
  {
   "cell_type": "code",
   "execution_count": 14,
   "id": "03096992-315f-486e-9da8-92f29db539aa",
   "metadata": {},
   "outputs": [],
   "source": [
    "model_table_saphir = model_table.loc[(model_table[\"Name_LinProd\"] == \"SAPHIR RX\") & (model_table[\"Name_SubFam\"]==\"SPHERIC\")]"
   ]
  },
  {
   "cell_type": "code",
   "execution_count": 15,
   "id": "b954d665-eb6f-44b9-a7b5-f6a6d9088207",
   "metadata": {},
   "outputs": [
    {
     "data": {
      "text/html": [
       "<div>\n",
       "<style scoped>\n",
       "    .dataframe tbody tr th:only-of-type {\n",
       "        vertical-align: middle;\n",
       "    }\n",
       "\n",
       "    .dataframe tbody tr th {\n",
       "        vertical-align: top;\n",
       "    }\n",
       "\n",
       "    .dataframe thead th {\n",
       "        text-align: right;\n",
       "    }\n",
       "</style>\n",
       "<table border=\"1\" class=\"dataframe\">\n",
       "  <thead>\n",
       "    <tr style=\"text-align: right;\">\n",
       "      <th></th>\n",
       "      <th>CENTER_THK</th>\n",
       "      <th>SCHEDULED_DATE</th>\n",
       "      <th>SCHEDULED_QTY</th>\n",
       "      <th>Adicion</th>\n",
       "      <th>Name_LinProd</th>\n",
       "      <th>Name_SubFam</th>\n",
       "      <th>Combined_Radius</th>\n",
       "      <th>Combined_Diameter</th>\n",
       "      <th>Combined_Power</th>\n",
       "      <th>Combined_Cylinder</th>\n",
       "      <th>Combined_Axis</th>\n",
       "    </tr>\n",
       "  </thead>\n",
       "  <tbody>\n",
       "    <tr>\n",
       "      <th>0</th>\n",
       "      <td>1300.0</td>\n",
       "      <td>2012-03-05 08:37:00</td>\n",
       "      <td>1.0</td>\n",
       "      <td>0.0</td>\n",
       "      <td>SAPHIR RX</td>\n",
       "      <td>SPHERIC</td>\n",
       "      <td>8.9</td>\n",
       "      <td>14.5</td>\n",
       "      <td>-1.5</td>\n",
       "      <td>0.0</td>\n",
       "      <td>0.0</td>\n",
       "    </tr>\n",
       "    <tr>\n",
       "      <th>1</th>\n",
       "      <td>1300.0</td>\n",
       "      <td>2012-03-05 08:37:00</td>\n",
       "      <td>1.0</td>\n",
       "      <td>0.0</td>\n",
       "      <td>SAPHIR RX</td>\n",
       "      <td>SPHERIC</td>\n",
       "      <td>8.9</td>\n",
       "      <td>14.5</td>\n",
       "      <td>-1.5</td>\n",
       "      <td>0.0</td>\n",
       "      <td>0.0</td>\n",
       "    </tr>\n",
       "    <tr>\n",
       "      <th>2</th>\n",
       "      <td>1300.0</td>\n",
       "      <td>2012-03-05 08:37:00</td>\n",
       "      <td>1.0</td>\n",
       "      <td>0.0</td>\n",
       "      <td>SAPHIR RX</td>\n",
       "      <td>SPHERIC</td>\n",
       "      <td>8.9</td>\n",
       "      <td>14.5</td>\n",
       "      <td>-1.5</td>\n",
       "      <td>0.0</td>\n",
       "      <td>0.0</td>\n",
       "    </tr>\n",
       "    <tr>\n",
       "      <th>3</th>\n",
       "      <td>1300.0</td>\n",
       "      <td>2012-03-05 08:37:00</td>\n",
       "      <td>1.0</td>\n",
       "      <td>0.0</td>\n",
       "      <td>SAPHIR RX</td>\n",
       "      <td>SPHERIC</td>\n",
       "      <td>9.2</td>\n",
       "      <td>14.5</td>\n",
       "      <td>-1.5</td>\n",
       "      <td>0.0</td>\n",
       "      <td>0.0</td>\n",
       "    </tr>\n",
       "    <tr>\n",
       "      <th>4</th>\n",
       "      <td>1300.0</td>\n",
       "      <td>2012-03-05 08:37:00</td>\n",
       "      <td>1.0</td>\n",
       "      <td>0.0</td>\n",
       "      <td>SAPHIR RX</td>\n",
       "      <td>SPHERIC</td>\n",
       "      <td>9.2</td>\n",
       "      <td>14.5</td>\n",
       "      <td>-1.5</td>\n",
       "      <td>0.0</td>\n",
       "      <td>0.0</td>\n",
       "    </tr>\n",
       "    <tr>\n",
       "      <th>...</th>\n",
       "      <td>...</td>\n",
       "      <td>...</td>\n",
       "      <td>...</td>\n",
       "      <td>...</td>\n",
       "      <td>...</td>\n",
       "      <td>...</td>\n",
       "      <td>...</td>\n",
       "      <td>...</td>\n",
       "      <td>...</td>\n",
       "      <td>...</td>\n",
       "      <td>...</td>\n",
       "    </tr>\n",
       "    <tr>\n",
       "      <th>12222844</th>\n",
       "      <td>1200.0</td>\n",
       "      <td>2023-05-20 09:34:00</td>\n",
       "      <td>1.0</td>\n",
       "      <td>0.0</td>\n",
       "      <td>SAPHIR RX</td>\n",
       "      <td>SPHERIC</td>\n",
       "      <td>8.0</td>\n",
       "      <td>14.5</td>\n",
       "      <td>-12.5</td>\n",
       "      <td>0.0</td>\n",
       "      <td>0.0</td>\n",
       "    </tr>\n",
       "    <tr>\n",
       "      <th>12222845</th>\n",
       "      <td>1200.0</td>\n",
       "      <td>2023-05-20 09:34:00</td>\n",
       "      <td>1.0</td>\n",
       "      <td>0.0</td>\n",
       "      <td>SAPHIR RX</td>\n",
       "      <td>SPHERIC</td>\n",
       "      <td>8.0</td>\n",
       "      <td>14.5</td>\n",
       "      <td>-13.0</td>\n",
       "      <td>0.0</td>\n",
       "      <td>0.0</td>\n",
       "    </tr>\n",
       "    <tr>\n",
       "      <th>12222846</th>\n",
       "      <td>1200.0</td>\n",
       "      <td>2023-05-20 09:34:00</td>\n",
       "      <td>1.0</td>\n",
       "      <td>0.0</td>\n",
       "      <td>SAPHIR RX</td>\n",
       "      <td>SPHERIC</td>\n",
       "      <td>8.0</td>\n",
       "      <td>14.5</td>\n",
       "      <td>-13.0</td>\n",
       "      <td>0.0</td>\n",
       "      <td>0.0</td>\n",
       "    </tr>\n",
       "    <tr>\n",
       "      <th>12222847</th>\n",
       "      <td>1200.0</td>\n",
       "      <td>2023-05-20 09:34:00</td>\n",
       "      <td>1.0</td>\n",
       "      <td>0.0</td>\n",
       "      <td>SAPHIR RX</td>\n",
       "      <td>SPHERIC</td>\n",
       "      <td>8.0</td>\n",
       "      <td>14.5</td>\n",
       "      <td>-13.0</td>\n",
       "      <td>0.0</td>\n",
       "      <td>0.0</td>\n",
       "    </tr>\n",
       "    <tr>\n",
       "      <th>12223250</th>\n",
       "      <td>1200.0</td>\n",
       "      <td>2023-05-20 09:34:00</td>\n",
       "      <td>1.0</td>\n",
       "      <td>0.0</td>\n",
       "      <td>SAPHIR RX</td>\n",
       "      <td>SPHERIC</td>\n",
       "      <td>8.3</td>\n",
       "      <td>14.0</td>\n",
       "      <td>-11.5</td>\n",
       "      <td>0.0</td>\n",
       "      <td>0.0</td>\n",
       "    </tr>\n",
       "  </tbody>\n",
       "</table>\n",
       "<p>686631 rows × 11 columns</p>\n",
       "</div>"
      ],
      "text/plain": [
       "          CENTER_THK      SCHEDULED_DATE  SCHEDULED_QTY  Adicion Name_LinProd  \\\n",
       "0             1300.0 2012-03-05 08:37:00            1.0      0.0    SAPHIR RX   \n",
       "1             1300.0 2012-03-05 08:37:00            1.0      0.0    SAPHIR RX   \n",
       "2             1300.0 2012-03-05 08:37:00            1.0      0.0    SAPHIR RX   \n",
       "3             1300.0 2012-03-05 08:37:00            1.0      0.0    SAPHIR RX   \n",
       "4             1300.0 2012-03-05 08:37:00            1.0      0.0    SAPHIR RX   \n",
       "...              ...                 ...            ...      ...          ...   \n",
       "12222844      1200.0 2023-05-20 09:34:00            1.0      0.0    SAPHIR RX   \n",
       "12222845      1200.0 2023-05-20 09:34:00            1.0      0.0    SAPHIR RX   \n",
       "12222846      1200.0 2023-05-20 09:34:00            1.0      0.0    SAPHIR RX   \n",
       "12222847      1200.0 2023-05-20 09:34:00            1.0      0.0    SAPHIR RX   \n",
       "12223250      1200.0 2023-05-20 09:34:00            1.0      0.0    SAPHIR RX   \n",
       "\n",
       "         Name_SubFam  Combined_Radius  Combined_Diameter  Combined_Power  \\\n",
       "0            SPHERIC              8.9               14.5            -1.5   \n",
       "1            SPHERIC              8.9               14.5            -1.5   \n",
       "2            SPHERIC              8.9               14.5            -1.5   \n",
       "3            SPHERIC              9.2               14.5            -1.5   \n",
       "4            SPHERIC              9.2               14.5            -1.5   \n",
       "...              ...              ...                ...             ...   \n",
       "12222844     SPHERIC              8.0               14.5           -12.5   \n",
       "12222845     SPHERIC              8.0               14.5           -13.0   \n",
       "12222846     SPHERIC              8.0               14.5           -13.0   \n",
       "12222847     SPHERIC              8.0               14.5           -13.0   \n",
       "12223250     SPHERIC              8.3               14.0           -11.5   \n",
       "\n",
       "          Combined_Cylinder  Combined_Axis  \n",
       "0                       0.0            0.0  \n",
       "1                       0.0            0.0  \n",
       "2                       0.0            0.0  \n",
       "3                       0.0            0.0  \n",
       "4                       0.0            0.0  \n",
       "...                     ...            ...  \n",
       "12222844                0.0            0.0  \n",
       "12222845                0.0            0.0  \n",
       "12222846                0.0            0.0  \n",
       "12222847                0.0            0.0  \n",
       "12223250                0.0            0.0  \n",
       "\n",
       "[686631 rows x 11 columns]"
      ]
     },
     "execution_count": 15,
     "metadata": {},
     "output_type": "execute_result"
    }
   ],
   "source": [
    "model_table_saphir"
   ]
  },
  {
   "cell_type": "code",
   "execution_count": 16,
   "id": "6c0a0672-8c1c-4508-be2c-6cf3811f186b",
   "metadata": {},
   "outputs": [
    {
     "data": {
      "text/plain": [
       "CENTER_THK           0\n",
       "SCHEDULED_DATE       0\n",
       "SCHEDULED_QTY        0\n",
       "Adicion              0\n",
       "Name_LinProd         0\n",
       "Name_SubFam          0\n",
       "Combined_Radius      0\n",
       "Combined_Diameter    0\n",
       "Combined_Power       0\n",
       "Combined_Cylinder    0\n",
       "Combined_Axis        0\n",
       "dtype: int64"
      ]
     },
     "execution_count": 16,
     "metadata": {},
     "output_type": "execute_result"
    }
   ],
   "source": [
    "model_table_saphir.isnull().sum()"
   ]
  },
  {
   "cell_type": "markdown",
   "id": "afb461ed-2c0f-4dab-8757-a0785762ca02",
   "metadata": {},
   "source": [
    "We change the column **SCHEDULED_DATE** to be the index."
   ]
  },
  {
   "cell_type": "code",
   "execution_count": 17,
   "id": "f52e1ee9-dd60-4054-8b3c-0abb47de4835",
   "metadata": {},
   "outputs": [],
   "source": [
    "# Set \"SCHEDULED_DATE\" as the index\n",
    "model_table_saphir.set_index(\"SCHEDULED_DATE\", inplace=True)"
   ]
  },
  {
   "cell_type": "code",
   "execution_count": 18,
   "id": "1e728a21-8968-40b9-81d8-76f935f0e713",
   "metadata": {},
   "outputs": [
    {
     "data": {
      "text/html": [
       "<div>\n",
       "<style scoped>\n",
       "    .dataframe tbody tr th:only-of-type {\n",
       "        vertical-align: middle;\n",
       "    }\n",
       "\n",
       "    .dataframe tbody tr th {\n",
       "        vertical-align: top;\n",
       "    }\n",
       "\n",
       "    .dataframe thead th {\n",
       "        text-align: right;\n",
       "    }\n",
       "</style>\n",
       "<table border=\"1\" class=\"dataframe\">\n",
       "  <thead>\n",
       "    <tr style=\"text-align: right;\">\n",
       "      <th></th>\n",
       "      <th>CENTER_THK</th>\n",
       "      <th>SCHEDULED_QTY</th>\n",
       "      <th>Adicion</th>\n",
       "      <th>Name_LinProd</th>\n",
       "      <th>Name_SubFam</th>\n",
       "      <th>Combined_Radius</th>\n",
       "      <th>Combined_Diameter</th>\n",
       "      <th>Combined_Power</th>\n",
       "      <th>Combined_Cylinder</th>\n",
       "      <th>Combined_Axis</th>\n",
       "    </tr>\n",
       "    <tr>\n",
       "      <th>SCHEDULED_DATE</th>\n",
       "      <th></th>\n",
       "      <th></th>\n",
       "      <th></th>\n",
       "      <th></th>\n",
       "      <th></th>\n",
       "      <th></th>\n",
       "      <th></th>\n",
       "      <th></th>\n",
       "      <th></th>\n",
       "      <th></th>\n",
       "    </tr>\n",
       "  </thead>\n",
       "  <tbody>\n",
       "    <tr>\n",
       "      <th>2012-03-05 08:37:00</th>\n",
       "      <td>1300.0</td>\n",
       "      <td>1.0</td>\n",
       "      <td>0.0</td>\n",
       "      <td>SAPHIR RX</td>\n",
       "      <td>SPHERIC</td>\n",
       "      <td>8.9</td>\n",
       "      <td>14.5</td>\n",
       "      <td>-1.5</td>\n",
       "      <td>0.0</td>\n",
       "      <td>0.0</td>\n",
       "    </tr>\n",
       "    <tr>\n",
       "      <th>2012-03-05 08:37:00</th>\n",
       "      <td>1300.0</td>\n",
       "      <td>1.0</td>\n",
       "      <td>0.0</td>\n",
       "      <td>SAPHIR RX</td>\n",
       "      <td>SPHERIC</td>\n",
       "      <td>8.9</td>\n",
       "      <td>14.5</td>\n",
       "      <td>-1.5</td>\n",
       "      <td>0.0</td>\n",
       "      <td>0.0</td>\n",
       "    </tr>\n",
       "    <tr>\n",
       "      <th>2012-03-05 08:37:00</th>\n",
       "      <td>1300.0</td>\n",
       "      <td>1.0</td>\n",
       "      <td>0.0</td>\n",
       "      <td>SAPHIR RX</td>\n",
       "      <td>SPHERIC</td>\n",
       "      <td>8.9</td>\n",
       "      <td>14.5</td>\n",
       "      <td>-1.5</td>\n",
       "      <td>0.0</td>\n",
       "      <td>0.0</td>\n",
       "    </tr>\n",
       "    <tr>\n",
       "      <th>2012-03-05 08:37:00</th>\n",
       "      <td>1300.0</td>\n",
       "      <td>1.0</td>\n",
       "      <td>0.0</td>\n",
       "      <td>SAPHIR RX</td>\n",
       "      <td>SPHERIC</td>\n",
       "      <td>9.2</td>\n",
       "      <td>14.5</td>\n",
       "      <td>-1.5</td>\n",
       "      <td>0.0</td>\n",
       "      <td>0.0</td>\n",
       "    </tr>\n",
       "    <tr>\n",
       "      <th>2012-03-05 08:37:00</th>\n",
       "      <td>1300.0</td>\n",
       "      <td>1.0</td>\n",
       "      <td>0.0</td>\n",
       "      <td>SAPHIR RX</td>\n",
       "      <td>SPHERIC</td>\n",
       "      <td>9.2</td>\n",
       "      <td>14.5</td>\n",
       "      <td>-1.5</td>\n",
       "      <td>0.0</td>\n",
       "      <td>0.0</td>\n",
       "    </tr>\n",
       "    <tr>\n",
       "      <th>...</th>\n",
       "      <td>...</td>\n",
       "      <td>...</td>\n",
       "      <td>...</td>\n",
       "      <td>...</td>\n",
       "      <td>...</td>\n",
       "      <td>...</td>\n",
       "      <td>...</td>\n",
       "      <td>...</td>\n",
       "      <td>...</td>\n",
       "      <td>...</td>\n",
       "    </tr>\n",
       "    <tr>\n",
       "      <th>2023-05-20 09:34:00</th>\n",
       "      <td>1200.0</td>\n",
       "      <td>1.0</td>\n",
       "      <td>0.0</td>\n",
       "      <td>SAPHIR RX</td>\n",
       "      <td>SPHERIC</td>\n",
       "      <td>8.0</td>\n",
       "      <td>14.5</td>\n",
       "      <td>-12.5</td>\n",
       "      <td>0.0</td>\n",
       "      <td>0.0</td>\n",
       "    </tr>\n",
       "    <tr>\n",
       "      <th>2023-05-20 09:34:00</th>\n",
       "      <td>1200.0</td>\n",
       "      <td>1.0</td>\n",
       "      <td>0.0</td>\n",
       "      <td>SAPHIR RX</td>\n",
       "      <td>SPHERIC</td>\n",
       "      <td>8.0</td>\n",
       "      <td>14.5</td>\n",
       "      <td>-13.0</td>\n",
       "      <td>0.0</td>\n",
       "      <td>0.0</td>\n",
       "    </tr>\n",
       "    <tr>\n",
       "      <th>2023-05-20 09:34:00</th>\n",
       "      <td>1200.0</td>\n",
       "      <td>1.0</td>\n",
       "      <td>0.0</td>\n",
       "      <td>SAPHIR RX</td>\n",
       "      <td>SPHERIC</td>\n",
       "      <td>8.0</td>\n",
       "      <td>14.5</td>\n",
       "      <td>-13.0</td>\n",
       "      <td>0.0</td>\n",
       "      <td>0.0</td>\n",
       "    </tr>\n",
       "    <tr>\n",
       "      <th>2023-05-20 09:34:00</th>\n",
       "      <td>1200.0</td>\n",
       "      <td>1.0</td>\n",
       "      <td>0.0</td>\n",
       "      <td>SAPHIR RX</td>\n",
       "      <td>SPHERIC</td>\n",
       "      <td>8.0</td>\n",
       "      <td>14.5</td>\n",
       "      <td>-13.0</td>\n",
       "      <td>0.0</td>\n",
       "      <td>0.0</td>\n",
       "    </tr>\n",
       "    <tr>\n",
       "      <th>2023-05-20 09:34:00</th>\n",
       "      <td>1200.0</td>\n",
       "      <td>1.0</td>\n",
       "      <td>0.0</td>\n",
       "      <td>SAPHIR RX</td>\n",
       "      <td>SPHERIC</td>\n",
       "      <td>8.3</td>\n",
       "      <td>14.0</td>\n",
       "      <td>-11.5</td>\n",
       "      <td>0.0</td>\n",
       "      <td>0.0</td>\n",
       "    </tr>\n",
       "  </tbody>\n",
       "</table>\n",
       "<p>686631 rows × 10 columns</p>\n",
       "</div>"
      ],
      "text/plain": [
       "                     CENTER_THK  SCHEDULED_QTY  Adicion Name_LinProd  \\\n",
       "SCHEDULED_DATE                                                         \n",
       "2012-03-05 08:37:00      1300.0            1.0      0.0    SAPHIR RX   \n",
       "2012-03-05 08:37:00      1300.0            1.0      0.0    SAPHIR RX   \n",
       "2012-03-05 08:37:00      1300.0            1.0      0.0    SAPHIR RX   \n",
       "2012-03-05 08:37:00      1300.0            1.0      0.0    SAPHIR RX   \n",
       "2012-03-05 08:37:00      1300.0            1.0      0.0    SAPHIR RX   \n",
       "...                         ...            ...      ...          ...   \n",
       "2023-05-20 09:34:00      1200.0            1.0      0.0    SAPHIR RX   \n",
       "2023-05-20 09:34:00      1200.0            1.0      0.0    SAPHIR RX   \n",
       "2023-05-20 09:34:00      1200.0            1.0      0.0    SAPHIR RX   \n",
       "2023-05-20 09:34:00      1200.0            1.0      0.0    SAPHIR RX   \n",
       "2023-05-20 09:34:00      1200.0            1.0      0.0    SAPHIR RX   \n",
       "\n",
       "                    Name_SubFam  Combined_Radius  Combined_Diameter  \\\n",
       "SCHEDULED_DATE                                                        \n",
       "2012-03-05 08:37:00     SPHERIC              8.9               14.5   \n",
       "2012-03-05 08:37:00     SPHERIC              8.9               14.5   \n",
       "2012-03-05 08:37:00     SPHERIC              8.9               14.5   \n",
       "2012-03-05 08:37:00     SPHERIC              9.2               14.5   \n",
       "2012-03-05 08:37:00     SPHERIC              9.2               14.5   \n",
       "...                         ...              ...                ...   \n",
       "2023-05-20 09:34:00     SPHERIC              8.0               14.5   \n",
       "2023-05-20 09:34:00     SPHERIC              8.0               14.5   \n",
       "2023-05-20 09:34:00     SPHERIC              8.0               14.5   \n",
       "2023-05-20 09:34:00     SPHERIC              8.0               14.5   \n",
       "2023-05-20 09:34:00     SPHERIC              8.3               14.0   \n",
       "\n",
       "                     Combined_Power  Combined_Cylinder  Combined_Axis  \n",
       "SCHEDULED_DATE                                                         \n",
       "2012-03-05 08:37:00            -1.5                0.0            0.0  \n",
       "2012-03-05 08:37:00            -1.5                0.0            0.0  \n",
       "2012-03-05 08:37:00            -1.5                0.0            0.0  \n",
       "2012-03-05 08:37:00            -1.5                0.0            0.0  \n",
       "2012-03-05 08:37:00            -1.5                0.0            0.0  \n",
       "...                             ...                ...            ...  \n",
       "2023-05-20 09:34:00           -12.5                0.0            0.0  \n",
       "2023-05-20 09:34:00           -13.0                0.0            0.0  \n",
       "2023-05-20 09:34:00           -13.0                0.0            0.0  \n",
       "2023-05-20 09:34:00           -13.0                0.0            0.0  \n",
       "2023-05-20 09:34:00           -11.5                0.0            0.0  \n",
       "\n",
       "[686631 rows x 10 columns]"
      ]
     },
     "execution_count": 18,
     "metadata": {},
     "output_type": "execute_result"
    }
   ],
   "source": [
    "model_table_saphir"
   ]
  },
  {
   "cell_type": "markdown",
   "id": "1e6b856a-fb4a-4602-92ee-d26f95c3e79a",
   "metadata": {},
   "source": [
    "These are the values for the parameters, within **Saphir Rx Toric Blister**, of the type of contact lense that has been produced the most, so we filter by them"
   ]
  },
  {
   "cell_type": "code",
   "execution_count": 19,
   "id": "d85c16b0-8452-4a20-b598-e8d8658d78b1",
   "metadata": {},
   "outputs": [],
   "source": [
    "model_table_saphir = model_table_saphir[\n",
    "    (model_table_saphir['Combined_Axis'] == 0) &\n",
    "    (model_table_saphir['CENTER_THK'] == 1600) &\n",
    "    (model_table_saphir['Combined_Radius'] == 8.9) &\n",
    "    (model_table_saphir['Combined_Diameter'] == 16) &\n",
    "    (model_table_saphir['Combined_Power'] == 0) &\n",
    "    (model_table_saphir['Combined_Cylinder'] == 0) &\n",
    "    (model_table_saphir['Adicion'] == 0)\n",
    "]"
   ]
  },
  {
   "cell_type": "code",
   "execution_count": 20,
   "id": "839896d8-1c91-4de5-8d08-9283c1cfe633",
   "metadata": {},
   "outputs": [
    {
     "data": {
      "text/html": [
       "<div>\n",
       "<style scoped>\n",
       "    .dataframe tbody tr th:only-of-type {\n",
       "        vertical-align: middle;\n",
       "    }\n",
       "\n",
       "    .dataframe tbody tr th {\n",
       "        vertical-align: top;\n",
       "    }\n",
       "\n",
       "    .dataframe thead th {\n",
       "        text-align: right;\n",
       "    }\n",
       "</style>\n",
       "<table border=\"1\" class=\"dataframe\">\n",
       "  <thead>\n",
       "    <tr style=\"text-align: right;\">\n",
       "      <th></th>\n",
       "      <th>CENTER_THK</th>\n",
       "      <th>SCHEDULED_QTY</th>\n",
       "      <th>Adicion</th>\n",
       "      <th>Name_LinProd</th>\n",
       "      <th>Name_SubFam</th>\n",
       "      <th>Combined_Radius</th>\n",
       "      <th>Combined_Diameter</th>\n",
       "      <th>Combined_Power</th>\n",
       "      <th>Combined_Cylinder</th>\n",
       "      <th>Combined_Axis</th>\n",
       "    </tr>\n",
       "    <tr>\n",
       "      <th>SCHEDULED_DATE</th>\n",
       "      <th></th>\n",
       "      <th></th>\n",
       "      <th></th>\n",
       "      <th></th>\n",
       "      <th></th>\n",
       "      <th></th>\n",
       "      <th></th>\n",
       "      <th></th>\n",
       "      <th></th>\n",
       "      <th></th>\n",
       "    </tr>\n",
       "  </thead>\n",
       "  <tbody>\n",
       "    <tr>\n",
       "      <th>2013-08-27 18:50:00</th>\n",
       "      <td>1600.0</td>\n",
       "      <td>1.0</td>\n",
       "      <td>0.0</td>\n",
       "      <td>SAPHIR RX</td>\n",
       "      <td>SPHERIC</td>\n",
       "      <td>8.9</td>\n",
       "      <td>16.0</td>\n",
       "      <td>0.0</td>\n",
       "      <td>0.0</td>\n",
       "      <td>0.0</td>\n",
       "    </tr>\n",
       "    <tr>\n",
       "      <th>2013-08-29 13:36:00</th>\n",
       "      <td>1600.0</td>\n",
       "      <td>1.0</td>\n",
       "      <td>0.0</td>\n",
       "      <td>SAPHIR RX</td>\n",
       "      <td>SPHERIC</td>\n",
       "      <td>8.9</td>\n",
       "      <td>16.0</td>\n",
       "      <td>0.0</td>\n",
       "      <td>0.0</td>\n",
       "      <td>0.0</td>\n",
       "    </tr>\n",
       "    <tr>\n",
       "      <th>2013-09-13 17:48:00</th>\n",
       "      <td>1600.0</td>\n",
       "      <td>1.0</td>\n",
       "      <td>0.0</td>\n",
       "      <td>SAPHIR RX</td>\n",
       "      <td>SPHERIC</td>\n",
       "      <td>8.9</td>\n",
       "      <td>16.0</td>\n",
       "      <td>0.0</td>\n",
       "      <td>0.0</td>\n",
       "      <td>0.0</td>\n",
       "    </tr>\n",
       "    <tr>\n",
       "      <th>2013-10-30 12:52:00</th>\n",
       "      <td>1600.0</td>\n",
       "      <td>1.0</td>\n",
       "      <td>0.0</td>\n",
       "      <td>SAPHIR RX</td>\n",
       "      <td>SPHERIC</td>\n",
       "      <td>8.9</td>\n",
       "      <td>16.0</td>\n",
       "      <td>0.0</td>\n",
       "      <td>0.0</td>\n",
       "      <td>0.0</td>\n",
       "    </tr>\n",
       "    <tr>\n",
       "      <th>2013-10-30 12:52:00</th>\n",
       "      <td>1600.0</td>\n",
       "      <td>1.0</td>\n",
       "      <td>0.0</td>\n",
       "      <td>SAPHIR RX</td>\n",
       "      <td>SPHERIC</td>\n",
       "      <td>8.9</td>\n",
       "      <td>16.0</td>\n",
       "      <td>0.0</td>\n",
       "      <td>0.0</td>\n",
       "      <td>0.0</td>\n",
       "    </tr>\n",
       "    <tr>\n",
       "      <th>...</th>\n",
       "      <td>...</td>\n",
       "      <td>...</td>\n",
       "      <td>...</td>\n",
       "      <td>...</td>\n",
       "      <td>...</td>\n",
       "      <td>...</td>\n",
       "      <td>...</td>\n",
       "      <td>...</td>\n",
       "      <td>...</td>\n",
       "      <td>...</td>\n",
       "    </tr>\n",
       "    <tr>\n",
       "      <th>2023-05-15 22:58:00</th>\n",
       "      <td>1600.0</td>\n",
       "      <td>1.0</td>\n",
       "      <td>0.0</td>\n",
       "      <td>SAPHIR RX</td>\n",
       "      <td>SPHERIC</td>\n",
       "      <td>8.9</td>\n",
       "      <td>16.0</td>\n",
       "      <td>0.0</td>\n",
       "      <td>0.0</td>\n",
       "      <td>0.0</td>\n",
       "    </tr>\n",
       "    <tr>\n",
       "      <th>2023-05-15 22:58:00</th>\n",
       "      <td>1600.0</td>\n",
       "      <td>1.0</td>\n",
       "      <td>0.0</td>\n",
       "      <td>SAPHIR RX</td>\n",
       "      <td>SPHERIC</td>\n",
       "      <td>8.9</td>\n",
       "      <td>16.0</td>\n",
       "      <td>0.0</td>\n",
       "      <td>0.0</td>\n",
       "      <td>0.0</td>\n",
       "    </tr>\n",
       "    <tr>\n",
       "      <th>2023-05-15 22:58:00</th>\n",
       "      <td>1600.0</td>\n",
       "      <td>1.0</td>\n",
       "      <td>0.0</td>\n",
       "      <td>SAPHIR RX</td>\n",
       "      <td>SPHERIC</td>\n",
       "      <td>8.9</td>\n",
       "      <td>16.0</td>\n",
       "      <td>0.0</td>\n",
       "      <td>0.0</td>\n",
       "      <td>0.0</td>\n",
       "    </tr>\n",
       "    <tr>\n",
       "      <th>2023-05-15 22:58:00</th>\n",
       "      <td>1600.0</td>\n",
       "      <td>1.0</td>\n",
       "      <td>0.0</td>\n",
       "      <td>SAPHIR RX</td>\n",
       "      <td>SPHERIC</td>\n",
       "      <td>8.9</td>\n",
       "      <td>16.0</td>\n",
       "      <td>0.0</td>\n",
       "      <td>0.0</td>\n",
       "      <td>0.0</td>\n",
       "    </tr>\n",
       "    <tr>\n",
       "      <th>2023-05-15 22:58:00</th>\n",
       "      <td>1600.0</td>\n",
       "      <td>1.0</td>\n",
       "      <td>0.0</td>\n",
       "      <td>SAPHIR RX</td>\n",
       "      <td>SPHERIC</td>\n",
       "      <td>8.9</td>\n",
       "      <td>16.0</td>\n",
       "      <td>0.0</td>\n",
       "      <td>0.0</td>\n",
       "      <td>0.0</td>\n",
       "    </tr>\n",
       "  </tbody>\n",
       "</table>\n",
       "<p>5620 rows × 10 columns</p>\n",
       "</div>"
      ],
      "text/plain": [
       "                     CENTER_THK  SCHEDULED_QTY  Adicion Name_LinProd  \\\n",
       "SCHEDULED_DATE                                                         \n",
       "2013-08-27 18:50:00      1600.0            1.0      0.0    SAPHIR RX   \n",
       "2013-08-29 13:36:00      1600.0            1.0      0.0    SAPHIR RX   \n",
       "2013-09-13 17:48:00      1600.0            1.0      0.0    SAPHIR RX   \n",
       "2013-10-30 12:52:00      1600.0            1.0      0.0    SAPHIR RX   \n",
       "2013-10-30 12:52:00      1600.0            1.0      0.0    SAPHIR RX   \n",
       "...                         ...            ...      ...          ...   \n",
       "2023-05-15 22:58:00      1600.0            1.0      0.0    SAPHIR RX   \n",
       "2023-05-15 22:58:00      1600.0            1.0      0.0    SAPHIR RX   \n",
       "2023-05-15 22:58:00      1600.0            1.0      0.0    SAPHIR RX   \n",
       "2023-05-15 22:58:00      1600.0            1.0      0.0    SAPHIR RX   \n",
       "2023-05-15 22:58:00      1600.0            1.0      0.0    SAPHIR RX   \n",
       "\n",
       "                    Name_SubFam  Combined_Radius  Combined_Diameter  \\\n",
       "SCHEDULED_DATE                                                        \n",
       "2013-08-27 18:50:00     SPHERIC              8.9               16.0   \n",
       "2013-08-29 13:36:00     SPHERIC              8.9               16.0   \n",
       "2013-09-13 17:48:00     SPHERIC              8.9               16.0   \n",
       "2013-10-30 12:52:00     SPHERIC              8.9               16.0   \n",
       "2013-10-30 12:52:00     SPHERIC              8.9               16.0   \n",
       "...                         ...              ...                ...   \n",
       "2023-05-15 22:58:00     SPHERIC              8.9               16.0   \n",
       "2023-05-15 22:58:00     SPHERIC              8.9               16.0   \n",
       "2023-05-15 22:58:00     SPHERIC              8.9               16.0   \n",
       "2023-05-15 22:58:00     SPHERIC              8.9               16.0   \n",
       "2023-05-15 22:58:00     SPHERIC              8.9               16.0   \n",
       "\n",
       "                     Combined_Power  Combined_Cylinder  Combined_Axis  \n",
       "SCHEDULED_DATE                                                         \n",
       "2013-08-27 18:50:00             0.0                0.0            0.0  \n",
       "2013-08-29 13:36:00             0.0                0.0            0.0  \n",
       "2013-09-13 17:48:00             0.0                0.0            0.0  \n",
       "2013-10-30 12:52:00             0.0                0.0            0.0  \n",
       "2013-10-30 12:52:00             0.0                0.0            0.0  \n",
       "...                             ...                ...            ...  \n",
       "2023-05-15 22:58:00             0.0                0.0            0.0  \n",
       "2023-05-15 22:58:00             0.0                0.0            0.0  \n",
       "2023-05-15 22:58:00             0.0                0.0            0.0  \n",
       "2023-05-15 22:58:00             0.0                0.0            0.0  \n",
       "2023-05-15 22:58:00             0.0                0.0            0.0  \n",
       "\n",
       "[5620 rows x 10 columns]"
      ]
     },
     "execution_count": 20,
     "metadata": {},
     "output_type": "execute_result"
    }
   ],
   "source": [
    "model_table_saphir"
   ]
  },
  {
   "cell_type": "code",
   "execution_count": 21,
   "id": "f6497353-e499-4ea4-957b-c4316e40b323",
   "metadata": {},
   "outputs": [],
   "source": [
    "# Select only the \"SCHEDULED_QTY\" column\n",
    "model_table_saphir = model_table_saphir[[\"SCHEDULED_QTY\"]]"
   ]
  },
  {
   "cell_type": "code",
   "execution_count": 22,
   "id": "991a9dcb-dd92-4358-ae70-a80b0c4e66ad",
   "metadata": {},
   "outputs": [],
   "source": [
    "# Group the data per day and per month\n",
    "model_table_saphir_monthly = model_table_saphir.resample('M').sum()"
   ]
  },
  {
   "cell_type": "code",
   "execution_count": 23,
   "id": "48941da3-078d-49a7-868b-abfd0a5bf8ad",
   "metadata": {},
   "outputs": [
    {
     "data": {
      "text/html": [
       "<div>\n",
       "<style scoped>\n",
       "    .dataframe tbody tr th:only-of-type {\n",
       "        vertical-align: middle;\n",
       "    }\n",
       "\n",
       "    .dataframe tbody tr th {\n",
       "        vertical-align: top;\n",
       "    }\n",
       "\n",
       "    .dataframe thead th {\n",
       "        text-align: right;\n",
       "    }\n",
       "</style>\n",
       "<table border=\"1\" class=\"dataframe\">\n",
       "  <thead>\n",
       "    <tr style=\"text-align: right;\">\n",
       "      <th></th>\n",
       "      <th>SCHEDULED_QTY</th>\n",
       "    </tr>\n",
       "    <tr>\n",
       "      <th>SCHEDULED_DATE</th>\n",
       "      <th></th>\n",
       "    </tr>\n",
       "  </thead>\n",
       "  <tbody>\n",
       "    <tr>\n",
       "      <th>2013-08-31</th>\n",
       "      <td>2.0</td>\n",
       "    </tr>\n",
       "    <tr>\n",
       "      <th>2013-09-30</th>\n",
       "      <td>1.0</td>\n",
       "    </tr>\n",
       "    <tr>\n",
       "      <th>2013-10-31</th>\n",
       "      <td>3.0</td>\n",
       "    </tr>\n",
       "    <tr>\n",
       "      <th>2013-11-30</th>\n",
       "      <td>0.0</td>\n",
       "    </tr>\n",
       "    <tr>\n",
       "      <th>2013-12-31</th>\n",
       "      <td>0.0</td>\n",
       "    </tr>\n",
       "    <tr>\n",
       "      <th>...</th>\n",
       "      <td>...</td>\n",
       "    </tr>\n",
       "    <tr>\n",
       "      <th>2023-01-31</th>\n",
       "      <td>192.0</td>\n",
       "    </tr>\n",
       "    <tr>\n",
       "      <th>2023-02-28</th>\n",
       "      <td>76.0</td>\n",
       "    </tr>\n",
       "    <tr>\n",
       "      <th>2023-03-31</th>\n",
       "      <td>162.0</td>\n",
       "    </tr>\n",
       "    <tr>\n",
       "      <th>2023-04-30</th>\n",
       "      <td>125.0</td>\n",
       "    </tr>\n",
       "    <tr>\n",
       "      <th>2023-05-31</th>\n",
       "      <td>9.0</td>\n",
       "    </tr>\n",
       "  </tbody>\n",
       "</table>\n",
       "<p>118 rows × 1 columns</p>\n",
       "</div>"
      ],
      "text/plain": [
       "                SCHEDULED_QTY\n",
       "SCHEDULED_DATE               \n",
       "2013-08-31                2.0\n",
       "2013-09-30                1.0\n",
       "2013-10-31                3.0\n",
       "2013-11-30                0.0\n",
       "2013-12-31                0.0\n",
       "...                       ...\n",
       "2023-01-31              192.0\n",
       "2023-02-28               76.0\n",
       "2023-03-31              162.0\n",
       "2023-04-30              125.0\n",
       "2023-05-31                9.0\n",
       "\n",
       "[118 rows x 1 columns]"
      ]
     },
     "execution_count": 23,
     "metadata": {},
     "output_type": "execute_result"
    }
   ],
   "source": [
    "model_table_saphir_monthly"
   ]
  },
  {
   "cell_type": "code",
   "execution_count": 24,
   "id": "b6fea7f8-fa16-4929-876e-10250ddd2f8c",
   "metadata": {},
   "outputs": [
    {
     "data": {
      "image/png": "[encoded data removed]",
      "text/plain": [
       "<Figure size 1800x432 with 1 Axes>"
      ]
     },
     "metadata": {
      "needs_background": "light"
     },
     "output_type": "display_data"
    }
   ],
   "source": [
    "import matplotlib.pyplot as plt\n",
    "\n",
    "# Plotting the data\n",
    "plt.figure(figsize=(25, 6))\n",
    "plt.plot(model_table_saphir_monthly.index, model_table_saphir_monthly['SCHEDULED_QTY'], color='blue')\n",
    "\n",
    "# Set labels and title\n",
    "plt.xlabel('Date')\n",
    "plt.ylabel('Scheduled Quantity')\n",
    "plt.title('Scheduled Quantity over Time')\n",
    "\n",
    "# Show the plot\n",
    "plt.show()"
   ]
  },
  {
   "cell_type": "markdown",
   "id": "e3546369-e747-444b-8e92-2ca7097d6d3d",
   "metadata": {},
   "source": [
    "This represents the complete demand for **Saphir Rx SPHERIC** The demand is grouped based on the most requested features for this particular contact lens."
   ]
  },
  {
   "cell_type": "markdown",
   "id": "71a636d3-6825-4c46-9d93-7f212307c67e",
   "metadata": {},
   "source": [
    "## **Model: SARIMA**\n"
   ]
  },
  {
   "cell_type": "code",
   "execution_count": 25,
   "id": "4503b3c4-6f9e-4377-8cd9-2f97e910ecd0",
   "metadata": {},
   "outputs": [],
   "source": [
    "# Create a copy of the DataFrame for training and prediction\n",
    "df = model_table_saphir_monthly.copy()"
   ]
  },
  {
   "cell_type": "code",
   "execution_count": 26,
   "id": "bbe9d2ec-f611-443f-bac6-04056bde870b",
   "metadata": {},
   "outputs": [
    {
     "data": {
      "text/plain": [
       "[<matplotlib.lines.Line2D at 0x167c0b57a60>]"
      ]
     },
     "execution_count": 26,
     "metadata": {},
     "output_type": "execute_result"
    },
    {
     "data": {
      "image/png": "[encoded data removed]",
      "text/plain": [
       "<Figure size 432x288 with 1 Axes>"
      ]
     },
     "metadata": {
      "needs_background": "light"
     },
     "output_type": "display_data"
    }
   ],
   "source": [
    "train = df[:108]\n",
    "test = df[-10:]\n",
    "plt.plot(train)\n",
    "plt.plot(test)"
   ]
  },
  {
   "cell_type": "code",
   "execution_count": 27,
   "id": "42eb9f19-82b6-4c1a-ae75-009a4621b07c",
   "metadata": {},
   "outputs": [],
   "source": [
    "from pmdarima.arima import auto_arima"
   ]
  },
  {
   "cell_type": "code",
   "execution_count": 37,
   "id": "8772e473-9d7b-4ac6-847c-8b7848fa7ebc",
   "metadata": {},
   "outputs": [
    {
     "name": "stdout",
     "output_type": "stream",
     "text": [
      "Performing stepwise search to minimize aic\n",
      " ARIMA(1,0,1)(0,1,1)[12] intercept   : AIC=inf, Time=1.03 sec\n",
      " ARIMA(0,0,0)(0,1,0)[12] intercept   : AIC=1245.059, Time=0.03 sec\n",
      " ARIMA(1,0,0)(1,1,0)[12] intercept   : AIC=1224.171, Time=0.42 sec\n",
      " ARIMA(0,0,1)(0,1,1)[12] intercept   : AIC=inf, Time=0.53 sec\n",
      " ARIMA(0,0,0)(0,1,0)[12]             : AIC=1244.320, Time=0.02 sec\n",
      " ARIMA(1,0,0)(0,1,0)[12] intercept   : AIC=1246.111, Time=0.10 sec\n",
      " ARIMA(1,0,0)(2,1,0)[12] intercept   : AIC=1223.580, Time=0.86 sec\n",
      " ARIMA(1,0,0)(2,1,1)[12] intercept   : AIC=inf, Time=1.19 sec\n",
      " ARIMA(1,0,0)(1,1,1)[12] intercept   : AIC=inf, Time=0.57 sec\n",
      " ARIMA(0,0,0)(2,1,0)[12] intercept   : AIC=1224.652, Time=0.55 sec\n",
      " ARIMA(2,0,0)(2,1,0)[12] intercept   : AIC=1220.668, Time=0.98 sec\n",
      " ARIMA(2,0,0)(1,1,0)[12] intercept   : AIC=1220.146, Time=0.66 sec\n",
      " ARIMA(2,0,0)(0,1,0)[12] intercept   : AIC=1245.607, Time=0.13 sec\n",
      " ARIMA(2,0,0)(1,1,1)[12] intercept   : AIC=inf, Time=0.81 sec\n",
      " ARIMA(2,0,0)(0,1,1)[12] intercept   : AIC=inf, Time=0.50 sec\n",
      " ARIMA(2,0,0)(2,1,1)[12] intercept   : AIC=inf, Time=1.78 sec\n",
      " ARIMA(3,0,0)(1,1,0)[12] intercept   : AIC=1221.169, Time=0.67 sec\n",
      " ARIMA(2,0,1)(1,1,0)[12] intercept   : AIC=1221.268, Time=0.62 sec\n",
      " ARIMA(1,0,1)(1,1,0)[12] intercept   : AIC=1220.846, Time=0.63 sec\n",
      " ARIMA(3,0,1)(1,1,0)[12] intercept   : AIC=1223.273, Time=0.57 sec\n",
      " ARIMA(2,0,0)(1,1,0)[12]             : AIC=1224.638, Time=0.14 sec\n",
      "\n",
      "Best model:  ARIMA(2,0,0)(1,1,0)[12] intercept\n",
      "Total fit time: 12.797 seconds\n",
      "1220.1462305381244\n"
     ]
    }
   ],
   "source": [
    "stepwise_model = auto_arima(df, start_p=1, start_q=1,\n",
    "                           max_p=3, max_q=3, m=12,\n",
    "                           start_P=0, seasonal=True,\n",
    "                           d=0, D=1, trace=True,\n",
    "                           error_action='ignore',  \n",
    "                           suppress_warnings=True, \n",
    "                           stepwise=True)\n",
    "print(stepwise_model.aic())"
   ]
  },
  {
   "cell_type": "code",
   "execution_count": 38,
   "id": "e8e23e9e-748d-44ac-8c91-98d5bd0765eb",
   "metadata": {},
   "outputs": [
    {
     "data": {
      "text/html": [
       "<table class=\"simpletable\">\n",
       "<caption>SARIMAX Results</caption>\n",
       "<tr>\n",
       "  <th>Dep. Variable:</th>                  <td>y</td>               <th>  No. Observations:  </th>    <td>118</td>  \n",
       "</tr>\n",
       "<tr>\n",
       "  <th>Model:</th>           <td>SARIMAX(2, 0, 0)x(1, 1, 0, 12)</td> <th>  Log Likelihood     </th> <td>-605.073</td>\n",
       "</tr>\n",
       "<tr>\n",
       "  <th>Date:</th>                   <td>Mon, 10 Jul 2023</td>        <th>  AIC                </th> <td>1220.146</td>\n",
       "</tr>\n",
       "<tr>\n",
       "  <th>Time:</th>                       <td>11:01:10</td>            <th>  BIC                </th> <td>1233.463</td>\n",
       "</tr>\n",
       "<tr>\n",
       "  <th>Sample:</th>                    <td>08-31-2013</td>           <th>  HQIC               </th> <td>1225.544</td>\n",
       "</tr>\n",
       "<tr>\n",
       "  <th></th>                          <td>- 05-31-2023</td>          <th>                     </th>     <td> </td>   \n",
       "</tr>\n",
       "<tr>\n",
       "  <th>Covariance Type:</th>               <td>opg</td>              <th>                     </th>     <td> </td>   \n",
       "</tr>\n",
       "</table>\n",
       "<table class=\"simpletable\">\n",
       "<tr>\n",
       "      <td></td>         <th>coef</th>     <th>std err</th>      <th>z</th>      <th>P>|z|</th>  <th>[0.025</th>    <th>0.975]</th>  \n",
       "</tr>\n",
       "<tr>\n",
       "  <th>intercept</th> <td>   19.9584</td> <td>    8.425</td> <td>    2.369</td> <td> 0.018</td> <td>    3.447</td> <td>   36.470</td>\n",
       "</tr>\n",
       "<tr>\n",
       "  <th>ar.L1</th>     <td>   -0.2258</td> <td>    0.126</td> <td>   -1.798</td> <td> 0.072</td> <td>   -0.472</td> <td>    0.020</td>\n",
       "</tr>\n",
       "<tr>\n",
       "  <th>ar.L2</th>     <td>   -0.2398</td> <td>    0.096</td> <td>   -2.485</td> <td> 0.013</td> <td>   -0.429</td> <td>   -0.051</td>\n",
       "</tr>\n",
       "<tr>\n",
       "  <th>ar.S.L12</th>  <td>   -0.4847</td> <td>    0.074</td> <td>   -6.528</td> <td> 0.000</td> <td>   -0.630</td> <td>   -0.339</td>\n",
       "</tr>\n",
       "<tr>\n",
       "  <th>sigma2</th>    <td> 5152.5312</td> <td>  589.166</td> <td>    8.745</td> <td> 0.000</td> <td> 3997.787</td> <td> 6307.275</td>\n",
       "</tr>\n",
       "</table>\n",
       "<table class=\"simpletable\">\n",
       "<tr>\n",
       "  <th>Ljung-Box (L1) (Q):</th>     <td>0.07</td> <th>  Jarque-Bera (JB):  </th> <td>30.50</td>\n",
       "</tr>\n",
       "<tr>\n",
       "  <th>Prob(Q):</th>                <td>0.79</td> <th>  Prob(JB):          </th> <td>0.00</td> \n",
       "</tr>\n",
       "<tr>\n",
       "  <th>Heteroskedasticity (H):</th> <td>2.23</td> <th>  Skew:              </th> <td>0.86</td> \n",
       "</tr>\n",
       "<tr>\n",
       "  <th>Prob(H) (two-sided):</th>    <td>0.02</td> <th>  Kurtosis:          </th> <td>4.98</td> \n",
       "</tr>\n",
       "</table><br/><br/>Warnings:<br/>[1] Covariance matrix calculated using the outer product of gradients (complex-step)."
      ],
      "text/plain": [
       "<class 'statsmodels.iolib.summary.Summary'>\n",
       "\"\"\"\n",
       "                                     SARIMAX Results                                      \n",
       "==========================================================================================\n",
       "Dep. Variable:                                  y   No. Observations:                  118\n",
       "Model:             SARIMAX(2, 0, 0)x(1, 1, 0, 12)   Log Likelihood                -605.073\n",
       "Date:                            Mon, 10 Jul 2023   AIC                           1220.146\n",
       "Time:                                    11:01:10   BIC                           1233.463\n",
       "Sample:                                08-31-2013   HQIC                          1225.544\n",
       "                                     - 05-31-2023                                         \n",
       "Covariance Type:                              opg                                         \n",
       "==============================================================================\n",
       "                 coef    std err          z      P>|z|      [0.025      0.975]\n",
       "------------------------------------------------------------------------------\n",
       "intercept     19.9584      8.425      2.369      0.018       3.447      36.470\n",
       "ar.L1         -0.2258      0.126     -1.798      0.072      -0.472       0.020\n",
       "ar.L2         -0.2398      0.096     -2.485      0.013      -0.429      -0.051\n",
       "ar.S.L12      -0.4847      0.074     -6.528      0.000      -0.630      -0.339\n",
       "sigma2      5152.5312    589.166      8.745      0.000    3997.787    6307.275\n",
       "===================================================================================\n",
       "Ljung-Box (L1) (Q):                   0.07   Jarque-Bera (JB):                30.50\n",
       "Prob(Q):                              0.79   Prob(JB):                         0.00\n",
       "Heteroskedasticity (H):               2.23   Skew:                             0.86\n",
       "Prob(H) (two-sided):                  0.02   Kurtosis:                         4.98\n",
       "===================================================================================\n",
       "\n",
       "Warnings:\n",
       "[1] Covariance matrix calculated using the outer product of gradients (complex-step).\n",
       "\"\"\""
      ]
     },
     "execution_count": 38,
     "metadata": {},
     "output_type": "execute_result"
    }
   ],
   "source": [
    "stepwise_model.summary()"
   ]
  },
  {
   "cell_type": "code",
   "execution_count": 39,
   "id": "2bb30e45-2ccf-4704-99d1-225d7bfcb7dd",
   "metadata": {},
   "outputs": [
    {
     "data": {
      "text/plain": [
       "(0.01, False)"
      ]
     },
     "execution_count": 39,
     "metadata": {},
     "output_type": "execute_result"
    }
   ],
   "source": [
    "from pmdarima.arima import ADFTest\n",
    "adf_test = ADFTest(alpha = 0.05)\n",
    "adf_test.should_diff(df)"
   ]
  },
  {
   "cell_type": "code",
   "execution_count": 40,
   "id": "813447c0-911c-4e55-85ee-743f0368afe5",
   "metadata": {},
   "outputs": [
    {
     "data": {
      "text/plain": [
       "ARIMA(order=(2, 0, 0), scoring_args={}, seasonal_order=(1, 1, 0, 12),\n",
       "      suppress_warnings=True)"
      ]
     },
     "execution_count": 40,
     "metadata": {},
     "output_type": "execute_result"
    }
   ],
   "source": [
    "stepwise_model.fit(train)"
   ]
  },
  {
   "cell_type": "code",
   "execution_count": 41,
   "id": "5e57a4f1-859f-41a3-99ff-df0fe9f03761",
   "metadata": {},
   "outputs": [],
   "source": [
    "future_forecast = stepwise_model.predict(n_periods=37)"
   ]
  },
  {
   "cell_type": "code",
   "execution_count": 42,
   "id": "bf56d3ca-3b18-400f-b8e2-3e69d30ebd26",
   "metadata": {},
   "outputs": [
    {
     "data": {
      "text/plain": [
       "<AxesSubplot:xlabel='SCHEDULED_DATE'>"
      ]
     },
     "execution_count": 42,
     "metadata": {},
     "output_type": "execute_result"
    },
    {
     "data": {
      "image/png": "[encoded data removed]",
      "text/plain": [
       "<Figure size 432x288 with 1 Axes>"
      ]
     },
     "metadata": {
      "needs_background": "light"
     },
     "output_type": "display_data"
    }
   ],
   "source": [
    "future_forecast = pd.DataFrame(future_forecast,index = test.index,columns=[\"Prediction\"])\n",
    "pd.concat([test,future_forecast],axis=1).plot()"
   ]
  },
  {
   "cell_type": "code",
   "execution_count": 43,
   "id": "c4e4d282-7697-40e7-822c-85b03c503b02",
   "metadata": {},
   "outputs": [
    {
     "name": "stdout",
     "output_type": "stream",
     "text": [
      "Mean Squared Error: 3063.0368460071654\n"
     ]
    }
   ],
   "source": [
    "from sklearn.metrics import mean_squared_error\n",
    "\n",
    "# Assuming \"test\" and \"future_forecast\" are the arrays containing the actual values and predicted values, respectively\n",
    "\n",
    "# Calculate MSE\n",
    "mse = mean_squared_error(test, future_forecast)\n",
    "\n",
    "# Print the MSE\n",
    "print(\"Mean Squared Error:\", mse)"
   ]
  },
  {
   "cell_type": "code",
   "execution_count": 44,
   "id": "2e544ae3-006a-4391-8dde-8da20455653e",
   "metadata": {},
   "outputs": [
    {
     "name": "stdout",
     "output_type": "stream",
     "text": [
      "MAPE: 216.83083124155365\n"
     ]
    }
   ],
   "source": [
    "import numpy as np\n",
    "\n",
    "def calculate_mape(actual, predicted):\n",
    "    \"\"\"\n",
    "    Calculates the Mean Absolute Percentage Error (MAPE) between the actual values and predicted values.\n",
    "    :param actual: array-like, actual values\n",
    "    :param predicted: array-like, predicted values\n",
    "    :return: float, MAPE value\n",
    "    \"\"\"\n",
    "    actual = np.array(actual)\n",
    "    predicted = np.array(predicted)\n",
    "    \n",
    "    errors = np.abs((actual - predicted) / actual)\n",
    "    mape = np.mean(errors) * 100\n",
    "    \n",
    "    return mape\n",
    "\n",
    "# Example us\n",
    "\n",
    "mape = calculate_mape(test,future_forecast)\n",
    "print(\"MAPE:\", mape)"
   ]
  },
  {
   "cell_type": "code",
   "execution_count": 45,
   "id": "77bc1ab3-0114-4af6-b210-10fd003beab9",
   "metadata": {},
   "outputs": [
    {
     "data": {
      "text/html": [
       "<div>\n",
       "<style scoped>\n",
       "    .dataframe tbody tr th:only-of-type {\n",
       "        vertical-align: middle;\n",
       "    }\n",
       "\n",
       "    .dataframe tbody tr th {\n",
       "        vertical-align: top;\n",
       "    }\n",
       "\n",
       "    .dataframe thead th {\n",
       "        text-align: right;\n",
       "    }\n",
       "</style>\n",
       "<table border=\"1\" class=\"dataframe\">\n",
       "  <thead>\n",
       "    <tr style=\"text-align: right;\">\n",
       "      <th></th>\n",
       "      <th>Prediction</th>\n",
       "    </tr>\n",
       "    <tr>\n",
       "      <th>SCHEDULED_DATE</th>\n",
       "      <th></th>\n",
       "    </tr>\n",
       "  </thead>\n",
       "  <tbody>\n",
       "    <tr>\n",
       "      <th>2022-08-31</th>\n",
       "      <td>-16.763652</td>\n",
       "    </tr>\n",
       "    <tr>\n",
       "      <th>2022-09-30</th>\n",
       "      <td>78.129196</td>\n",
       "    </tr>\n",
       "    <tr>\n",
       "      <th>2022-10-31</th>\n",
       "      <td>128.015189</td>\n",
       "    </tr>\n",
       "    <tr>\n",
       "      <th>2022-11-30</th>\n",
       "      <td>45.028787</td>\n",
       "    </tr>\n",
       "    <tr>\n",
       "      <th>2022-12-31</th>\n",
       "      <td>27.109879</td>\n",
       "    </tr>\n",
       "    <tr>\n",
       "      <th>2023-01-31</th>\n",
       "      <td>108.727019</td>\n",
       "    </tr>\n",
       "    <tr>\n",
       "      <th>2023-02-28</th>\n",
       "      <td>42.054833</td>\n",
       "    </tr>\n",
       "    <tr>\n",
       "      <th>2023-03-31</th>\n",
       "      <td>156.849792</td>\n",
       "    </tr>\n",
       "    <tr>\n",
       "      <th>2023-04-30</th>\n",
       "      <td>33.639593</td>\n",
       "    </tr>\n",
       "    <tr>\n",
       "      <th>2023-05-31</th>\n",
       "      <td>112.096008</td>\n",
       "    </tr>\n",
       "  </tbody>\n",
       "</table>\n",
       "</div>"
      ],
      "text/plain": [
       "                Prediction\n",
       "SCHEDULED_DATE            \n",
       "2022-08-31      -16.763652\n",
       "2022-09-30       78.129196\n",
       "2022-10-31      128.015189\n",
       "2022-11-30       45.028787\n",
       "2022-12-31       27.109879\n",
       "2023-01-31      108.727019\n",
       "2023-02-28       42.054833\n",
       "2023-03-31      156.849792\n",
       "2023-04-30       33.639593\n",
       "2023-05-31      112.096008"
      ]
     },
     "execution_count": 45,
     "metadata": {},
     "output_type": "execute_result"
    }
   ],
   "source": [
    "future_forecast"
   ]
  }
 ],
 "metadata": {
  "kernelspec": {
   "display_name": "Python 3 (ipykernel)",
   "language": "python",
   "name": "python3"
  },
  "language_info": {
   "codemirror_mode": {
    "name": "ipython",
    "version": 3
   },
   "file_extension": ".py",
   "mimetype": "text/x-python",
   "name": "python",
   "nbconvert_exporter": "python",
   "pygments_lexer": "ipython3",
   "version": "3.9.12"
  }
 },
 "nbformat": 4,
 "nbformat_minor": 5
}
